{
  "cells": [
    {
      "cell_type": "markdown",
      "metadata": {
        "id": "view-in-github",
        "colab_type": "text"
      },
      "source": [
        "<a href=\"https://colab.research.google.com/github/RozminWaghu99/Customer-Churn-Analysis./blob/main/Customer_Churn_Analysis.ipynb\" target=\"_parent\"><img src=\"https://colab.research.google.com/assets/colab-badge.svg\" alt=\"Open In Colab\"/></a>"
      ]
    },
    {
      "cell_type": "markdown",
      "metadata": {
        "id": "NGA-ruAGxXgK"
      },
      "source": [
        "# **Customer churn**\n",
        "\n",
        "****\n",
        "Customer churn is a fundamental problem for the telecommunication (Telco) industry. It is defined as the loss of customers moved from one Telco operator to another. If customer churn can be predicted in advance, such as “is this customer going to leave us within the next X months?”, Telco operators can apply business marketing policies to such churn customers to retain and increase the customer base. In particular, given millions of Telco customers, even reducing the 1% churn rate will lead to a significant profit increase.\n",
        "\n",
        "We can roughly define the Churn analysis as the whole of analytical studies on “a customer”, “a product or service”, and “the probability of abandonment”. We aim to be aware of this situation (even the customer himself may not be aware of this situation) before the customer leaves us (approaching to leave) and then to take some preventive actions.\n",
        "\n",
        "Telco churn data includes information about a fictitious telecom company that provided home phone and Internet services to 7,043 California customers in the third quarter. Which customers have left, stayed, or signed up for their service shows?\n",
        "\n",
        "<img src=\"https://scontent.fbom3-2.fna.fbcdn.net/v/t39.30808-6/317306576_544649757676330_3733256563044219756_n.jpg?stp=dst-jpg_p843x403&_nc_cat=100&ccb=1-7&_nc_sid=730e14&_nc_ohc=nWzyHoYKBuMAX8ICvpF&tn=0f4upZFa0IPoZV7T&_nc_ht=scontent.fbom3-2.fna&oh=00_AfAB1N6Jvum3F1eHk06MiVr5No-1tukTBNnkAJkVSRc0hw&oe=639D82E2\" style=\"float:right;\">\n",
        "\n",
        "\n",
        "# **Business Problem :**\n",
        "\n",
        "It is desirable to develop a machine learning model that can predict customers who will leave the company. You are expected to perform the necessary data analysis and feature engineering steps before developing the model.\n",
        "\n",
        "\n",
        "# **Description :**\n",
        "\n",
        "- customerID - unique value identifying customer\n",
        "- gender - whether the customer is a male or a female\n",
        "- SeniorCitizen - whether the customer is a senior citizen or not (1, 0)\n",
        "- Partner - whether the customer has a partner or not (Yes, No)\n",
        "- Dependents - whether the customer has dependents or not (Yes, No). A dependent is a person who relies on another as a primary source of income,\n",
        "- tenure - number of months the customer has stayed with the company\n",
        "- PhoneService - whether the customer has a phone service or not (Yes, No)\n",
        "- MultipleLines - whether the customer has multiple lines or not (Yes, No, No phone service)\n",
        "- InternetService - customer’s internet service provider (DSL, Fiber optic, No)\n",
        "- OnlineSecurity - whether the customer has online security or not (Yes, No, No internet service)\n",
        "- OnlineBackup - whether the customer has online backup or not (Yes, No, No internet service)\n",
        "- DeviceProtection - whether the customer has device protection or not (Yes, No, No internet service)\n",
        "- TechSupport - whether the customer has tech support or not (Yes, No, No internet service)\n",
        "- StreamingTV - whether the customer has streaming TV or not (Yes, No, No internet service)\n",
        "- StreamingMovies - whether the customer has streaming movies or not (Yes, No, No internet service)\n",
        "- Contract - type of contract according to duration (Month-to-month, One year, Two year)\n",
        "- PaperlessBilling - bills issued in paperless form (Yes, No)\n",
        "- PaymentMethod - payment method used by customer (Electronic check, Mailed check, Credit card (automatic), Bank transfer (automatic))\n",
        "- MonthlyCharges - amount of charge for service on monthly bases\n",
        "- TotalCharges - cumulative charges for service during subscription (tenure) period\n",
        "- Churn – output value, predict variable"
      ]
    },
    {
      "cell_type": "code",
      "execution_count": 129,
      "metadata": {
        "colab": {
          "base_uri": "https://localhost:8080/"
        },
        "id": "6waKXYCaXdR3",
        "outputId": "ecc00b4c-302f-4a94-f3c4-7b59b705f455"
      },
      "outputs": [
        {
          "output_type": "stream",
          "name": "stdout",
          "text": [
            "Drive already mounted at /content/drive; to attempt to forcibly remount, call drive.mount(\"/content/drive\", force_remount=True).\n"
          ]
        }
      ],
      "source": [
        "#Import modules\n",
        "import pandas as pd\n",
        "import numpy as np\n",
        "import seaborn as sns\n",
        "import matplotlib.pyplot as plt\n",
        "%matplotlib inline\n",
        "#feature importance for feature selection\n",
        "from sklearn.metrics import mutual_info_score\n",
        "#imblearn data\n",
        "from imblearn.over_sampling import SMOTE \n",
        "#normailizing our dataset using min max scaler\n",
        "from sklearn.preprocessing import MinMaxScaler\n",
        "# split the data in training and testing sets\n",
        "from sklearn.model_selection import train_test_split\n",
        "#models\n",
        "from sklearn.neighbors import KNeighborsClassifier\n",
        "from sklearn.linear_model import LogisticRegression\n",
        "from sklearn.svm import SVC, LinearSVC\n",
        "from sklearn.ensemble import BaggingClassifier, AdaBoostClassifier, GradientBoostingClassifier, RandomForestClassifier, GradientBoostingClassifier\n",
        "from xgboost import XGBClassifier\n",
        "from lightgbm import LGBMClassifier\n",
        "from sklearn.metrics import mean_squared_error,mean_absolute_error\n",
        "from sklearn.model_selection import cross_val_score, cross_val_predict\n",
        "from sklearn.metrics import confusion_matrix, ConfusionMatrixDisplay,classification_report, accuracy_score, roc_curve, auc\n",
        "from sklearn.metrics import roc_curve, auc,roc_auc_score\n",
        "\n",
        "from matplotlib import pyplot\n",
        "from sklearn import metrics\n",
        "from sklearn.metrics import plot_confusion_matrix, classification_report, plot_roc_curve\n",
        "\n",
        "import warnings\n",
        "warnings.filterwarnings('ignore')\n",
        "\n",
        "\n",
        "#mount google drive\n",
        "from google.colab import drive\n",
        "drive.mount('/content/drive')"
      ]
    },
    {
      "cell_type": "code",
      "execution_count": 1,
      "metadata": {
        "id": "v2Rw53ofkj9a"
      },
      "outputs": [],
      "source": [
        "\n"
      ]
    },
    {
      "cell_type": "code",
      "execution_count": 2,
      "metadata": {
        "colab": {
          "base_uri": "https://localhost:8080/",
          "height": 386
        },
        "id": "jXErkqwoX0kA",
        "outputId": "189c85c1-a326-4941-92d7-ba6aac1e740b"
      },
      "outputs": [
        {
          "output_type": "execute_result",
          "data": {
            "text/plain": [
              "   customerID  gender  SeniorCitizen Partner Dependents  tenure PhoneService  \\\n",
              "0  7590-VHVEG  Female              0     Yes         No       1           No   \n",
              "1  5575-GNVDE    Male              0      No         No      34          Yes   \n",
              "2  3668-QPYBK    Male              0      No         No       2          Yes   \n",
              "3  7795-CFOCW    Male              0      No         No      45           No   \n",
              "4  9237-HQITU  Female              0      No         No       2          Yes   \n",
              "\n",
              "      MultipleLines InternetService OnlineSecurity  ... DeviceProtection  \\\n",
              "0  No phone service             DSL             No  ...               No   \n",
              "1                No             DSL            Yes  ...              Yes   \n",
              "2                No             DSL            Yes  ...               No   \n",
              "3  No phone service             DSL            Yes  ...              Yes   \n",
              "4                No     Fiber optic             No  ...               No   \n",
              "\n",
              "  TechSupport StreamingTV StreamingMovies        Contract PaperlessBilling  \\\n",
              "0          No          No              No  Month-to-month              Yes   \n",
              "1          No          No              No        One year               No   \n",
              "2          No          No              No  Month-to-month              Yes   \n",
              "3         Yes          No              No        One year               No   \n",
              "4          No          No              No  Month-to-month              Yes   \n",
              "\n",
              "               PaymentMethod MonthlyCharges  TotalCharges Churn  \n",
              "0           Electronic check          29.85         29.85    No  \n",
              "1               Mailed check          56.95        1889.5    No  \n",
              "2               Mailed check          53.85        108.15   Yes  \n",
              "3  Bank transfer (automatic)          42.30       1840.75    No  \n",
              "4           Electronic check          70.70        151.65   Yes  \n",
              "\n",
              "[5 rows x 21 columns]"
            ],
            "text/html": [
              "\n",
              "  <div id=\"df-63f4bcf3-67f0-4cc9-8413-82fcf097d8fe\">\n",
              "    <div class=\"colab-df-container\">\n",
              "      <div>\n",
              "<style scoped>\n",
              "    .dataframe tbody tr th:only-of-type {\n",
              "        vertical-align: middle;\n",
              "    }\n",
              "\n",
              "    .dataframe tbody tr th {\n",
              "        vertical-align: top;\n",
              "    }\n",
              "\n",
              "    .dataframe thead th {\n",
              "        text-align: right;\n",
              "    }\n",
              "</style>\n",
              "<table border=\"1\" class=\"dataframe\">\n",
              "  <thead>\n",
              "    <tr style=\"text-align: right;\">\n",
              "      <th></th>\n",
              "      <th>customerID</th>\n",
              "      <th>gender</th>\n",
              "      <th>SeniorCitizen</th>\n",
              "      <th>Partner</th>\n",
              "      <th>Dependents</th>\n",
              "      <th>tenure</th>\n",
              "      <th>PhoneService</th>\n",
              "      <th>MultipleLines</th>\n",
              "      <th>InternetService</th>\n",
              "      <th>OnlineSecurity</th>\n",
              "      <th>...</th>\n",
              "      <th>DeviceProtection</th>\n",
              "      <th>TechSupport</th>\n",
              "      <th>StreamingTV</th>\n",
              "      <th>StreamingMovies</th>\n",
              "      <th>Contract</th>\n",
              "      <th>PaperlessBilling</th>\n",
              "      <th>PaymentMethod</th>\n",
              "      <th>MonthlyCharges</th>\n",
              "      <th>TotalCharges</th>\n",
              "      <th>Churn</th>\n",
              "    </tr>\n",
              "  </thead>\n",
              "  <tbody>\n",
              "    <tr>\n",
              "      <th>0</th>\n",
              "      <td>7590-VHVEG</td>\n",
              "      <td>Female</td>\n",
              "      <td>0</td>\n",
              "      <td>Yes</td>\n",
              "      <td>No</td>\n",
              "      <td>1</td>\n",
              "      <td>No</td>\n",
              "      <td>No phone service</td>\n",
              "      <td>DSL</td>\n",
              "      <td>No</td>\n",
              "      <td>...</td>\n",
              "      <td>No</td>\n",
              "      <td>No</td>\n",
              "      <td>No</td>\n",
              "      <td>No</td>\n",
              "      <td>Month-to-month</td>\n",
              "      <td>Yes</td>\n",
              "      <td>Electronic check</td>\n",
              "      <td>29.85</td>\n",
              "      <td>29.85</td>\n",
              "      <td>No</td>\n",
              "    </tr>\n",
              "    <tr>\n",
              "      <th>1</th>\n",
              "      <td>5575-GNVDE</td>\n",
              "      <td>Male</td>\n",
              "      <td>0</td>\n",
              "      <td>No</td>\n",
              "      <td>No</td>\n",
              "      <td>34</td>\n",
              "      <td>Yes</td>\n",
              "      <td>No</td>\n",
              "      <td>DSL</td>\n",
              "      <td>Yes</td>\n",
              "      <td>...</td>\n",
              "      <td>Yes</td>\n",
              "      <td>No</td>\n",
              "      <td>No</td>\n",
              "      <td>No</td>\n",
              "      <td>One year</td>\n",
              "      <td>No</td>\n",
              "      <td>Mailed check</td>\n",
              "      <td>56.95</td>\n",
              "      <td>1889.5</td>\n",
              "      <td>No</td>\n",
              "    </tr>\n",
              "    <tr>\n",
              "      <th>2</th>\n",
              "      <td>3668-QPYBK</td>\n",
              "      <td>Male</td>\n",
              "      <td>0</td>\n",
              "      <td>No</td>\n",
              "      <td>No</td>\n",
              "      <td>2</td>\n",
              "      <td>Yes</td>\n",
              "      <td>No</td>\n",
              "      <td>DSL</td>\n",
              "      <td>Yes</td>\n",
              "      <td>...</td>\n",
              "      <td>No</td>\n",
              "      <td>No</td>\n",
              "      <td>No</td>\n",
              "      <td>No</td>\n",
              "      <td>Month-to-month</td>\n",
              "      <td>Yes</td>\n",
              "      <td>Mailed check</td>\n",
              "      <td>53.85</td>\n",
              "      <td>108.15</td>\n",
              "      <td>Yes</td>\n",
              "    </tr>\n",
              "    <tr>\n",
              "      <th>3</th>\n",
              "      <td>7795-CFOCW</td>\n",
              "      <td>Male</td>\n",
              "      <td>0</td>\n",
              "      <td>No</td>\n",
              "      <td>No</td>\n",
              "      <td>45</td>\n",
              "      <td>No</td>\n",
              "      <td>No phone service</td>\n",
              "      <td>DSL</td>\n",
              "      <td>Yes</td>\n",
              "      <td>...</td>\n",
              "      <td>Yes</td>\n",
              "      <td>Yes</td>\n",
              "      <td>No</td>\n",
              "      <td>No</td>\n",
              "      <td>One year</td>\n",
              "      <td>No</td>\n",
              "      <td>Bank transfer (automatic)</td>\n",
              "      <td>42.30</td>\n",
              "      <td>1840.75</td>\n",
              "      <td>No</td>\n",
              "    </tr>\n",
              "    <tr>\n",
              "      <th>4</th>\n",
              "      <td>9237-HQITU</td>\n",
              "      <td>Female</td>\n",
              "      <td>0</td>\n",
              "      <td>No</td>\n",
              "      <td>No</td>\n",
              "      <td>2</td>\n",
              "      <td>Yes</td>\n",
              "      <td>No</td>\n",
              "      <td>Fiber optic</td>\n",
              "      <td>No</td>\n",
              "      <td>...</td>\n",
              "      <td>No</td>\n",
              "      <td>No</td>\n",
              "      <td>No</td>\n",
              "      <td>No</td>\n",
              "      <td>Month-to-month</td>\n",
              "      <td>Yes</td>\n",
              "      <td>Electronic check</td>\n",
              "      <td>70.70</td>\n",
              "      <td>151.65</td>\n",
              "      <td>Yes</td>\n",
              "    </tr>\n",
              "  </tbody>\n",
              "</table>\n",
              "<p>5 rows × 21 columns</p>\n",
              "</div>\n",
              "      <button class=\"colab-df-convert\" onclick=\"convertToInteractive('df-63f4bcf3-67f0-4cc9-8413-82fcf097d8fe')\"\n",
              "              title=\"Convert this dataframe to an interactive table.\"\n",
              "              style=\"display:none;\">\n",
              "        \n",
              "  <svg xmlns=\"http://www.w3.org/2000/svg\" height=\"24px\"viewBox=\"0 0 24 24\"\n",
              "       width=\"24px\">\n",
              "    <path d=\"M0 0h24v24H0V0z\" fill=\"none\"/>\n",
              "    <path d=\"M18.56 5.44l.94 2.06.94-2.06 2.06-.94-2.06-.94-.94-2.06-.94 2.06-2.06.94zm-11 1L8.5 8.5l.94-2.06 2.06-.94-2.06-.94L8.5 2.5l-.94 2.06-2.06.94zm10 10l.94 2.06.94-2.06 2.06-.94-2.06-.94-.94-2.06-.94 2.06-2.06.94z\"/><path d=\"M17.41 7.96l-1.37-1.37c-.4-.4-.92-.59-1.43-.59-.52 0-1.04.2-1.43.59L10.3 9.45l-7.72 7.72c-.78.78-.78 2.05 0 2.83L4 21.41c.39.39.9.59 1.41.59.51 0 1.02-.2 1.41-.59l7.78-7.78 2.81-2.81c.8-.78.8-2.07 0-2.86zM5.41 20L4 18.59l7.72-7.72 1.47 1.35L5.41 20z\"/>\n",
              "  </svg>\n",
              "      </button>\n",
              "      \n",
              "  <style>\n",
              "    .colab-df-container {\n",
              "      display:flex;\n",
              "      flex-wrap:wrap;\n",
              "      gap: 12px;\n",
              "    }\n",
              "\n",
              "    .colab-df-convert {\n",
              "      background-color: #E8F0FE;\n",
              "      border: none;\n",
              "      border-radius: 50%;\n",
              "      cursor: pointer;\n",
              "      display: none;\n",
              "      fill: #1967D2;\n",
              "      height: 32px;\n",
              "      padding: 0 0 0 0;\n",
              "      width: 32px;\n",
              "    }\n",
              "\n",
              "    .colab-df-convert:hover {\n",
              "      background-color: #E2EBFA;\n",
              "      box-shadow: 0px 1px 2px rgba(60, 64, 67, 0.3), 0px 1px 3px 1px rgba(60, 64, 67, 0.15);\n",
              "      fill: #174EA6;\n",
              "    }\n",
              "\n",
              "    [theme=dark] .colab-df-convert {\n",
              "      background-color: #3B4455;\n",
              "      fill: #D2E3FC;\n",
              "    }\n",
              "\n",
              "    [theme=dark] .colab-df-convert:hover {\n",
              "      background-color: #434B5C;\n",
              "      box-shadow: 0px 1px 3px 1px rgba(0, 0, 0, 0.15);\n",
              "      filter: drop-shadow(0px 1px 2px rgba(0, 0, 0, 0.3));\n",
              "      fill: #FFFFFF;\n",
              "    }\n",
              "  </style>\n",
              "\n",
              "      <script>\n",
              "        const buttonEl =\n",
              "          document.querySelector('#df-63f4bcf3-67f0-4cc9-8413-82fcf097d8fe button.colab-df-convert');\n",
              "        buttonEl.style.display =\n",
              "          google.colab.kernel.accessAllowed ? 'block' : 'none';\n",
              "\n",
              "        async function convertToInteractive(key) {\n",
              "          const element = document.querySelector('#df-63f4bcf3-67f0-4cc9-8413-82fcf097d8fe');\n",
              "          const dataTable =\n",
              "            await google.colab.kernel.invokeFunction('convertToInteractive',\n",
              "                                                     [key], {});\n",
              "          if (!dataTable) return;\n",
              "\n",
              "          const docLinkHtml = 'Like what you see? Visit the ' +\n",
              "            '<a target=\"_blank\" href=https://colab.research.google.com/notebooks/data_table.ipynb>data table notebook</a>'\n",
              "            + ' to learn more about interactive tables.';\n",
              "          element.innerHTML = '';\n",
              "          dataTable['output_type'] = 'display_data';\n",
              "          await google.colab.output.renderOutput(dataTable, element);\n",
              "          const docLink = document.createElement('div');\n",
              "          docLink.innerHTML = docLinkHtml;\n",
              "          element.appendChild(docLink);\n",
              "        }\n",
              "      </script>\n",
              "    </div>\n",
              "  </div>\n",
              "  "
            ]
          },
          "metadata": {},
          "execution_count": 2
        }
      ],
      "source": [
        "#Loading reading teleco customer churn dataset\n",
        "d = pd.read_csv('/content/drive/MyDrive/Colab Notebooks/ML Project/Customer Churn Anaylsis /WA_Fn-UseC_-Telco-Customer-Churn.csv')\n",
        "d.head()"
      ]
    },
    {
      "cell_type": "markdown",
      "metadata": {
        "id": "ZEB9rjCyEUkU"
      },
      "source": [
        "# ***Exploratory Data Analysis & Data Cleaning***\n",
        "****"
      ]
    },
    {
      "cell_type": "markdown",
      "metadata": {
        "id": "FvDv8-_X2knx"
      },
      "source": [
        "# Inspect dataset"
      ]
    },
    {
      "cell_type": "code",
      "execution_count": 3,
      "metadata": {
        "colab": {
          "base_uri": "https://localhost:8080/"
        },
        "id": "-brKcz9PYQyx",
        "outputId": "586216db-5c33-44a6-f99d-544c22c73696"
      },
      "outputs": [
        {
          "output_type": "stream",
          "name": "stdout",
          "text": [
            "<class 'pandas.core.frame.DataFrame'>\n",
            "RangeIndex: 7043 entries, 0 to 7042\n",
            "Data columns (total 21 columns):\n",
            " #   Column            Non-Null Count  Dtype  \n",
            "---  ------            --------------  -----  \n",
            " 0   customerID        7043 non-null   object \n",
            " 1   gender            7043 non-null   object \n",
            " 2   SeniorCitizen     7043 non-null   int64  \n",
            " 3   Partner           7043 non-null   object \n",
            " 4   Dependents        7043 non-null   object \n",
            " 5   tenure            7043 non-null   int64  \n",
            " 6   PhoneService      7043 non-null   object \n",
            " 7   MultipleLines     7043 non-null   object \n",
            " 8   InternetService   7043 non-null   object \n",
            " 9   OnlineSecurity    7043 non-null   object \n",
            " 10  OnlineBackup      7043 non-null   object \n",
            " 11  DeviceProtection  7043 non-null   object \n",
            " 12  TechSupport       7043 non-null   object \n",
            " 13  StreamingTV       7043 non-null   object \n",
            " 14  StreamingMovies   7043 non-null   object \n",
            " 15  Contract          7043 non-null   object \n",
            " 16  PaperlessBilling  7043 non-null   object \n",
            " 17  PaymentMethod     7043 non-null   object \n",
            " 18  MonthlyCharges    7043 non-null   float64\n",
            " 19  TotalCharges      7043 non-null   object \n",
            " 20  Churn             7043 non-null   object \n",
            "dtypes: float64(1), int64(2), object(18)\n",
            "memory usage: 1.1+ MB\n"
          ]
        }
      ],
      "source": [
        "d.info()"
      ]
    },
    {
      "cell_type": "markdown",
      "metadata": {
        "id": "e_bKTdGw2pc5"
      },
      "source": [
        "- Total rows : 7043\n",
        "- Total columns : 21 \n",
        "- numerical feartures: 3\n",
        "- categorical features : 18"
      ]
    },
    {
      "cell_type": "markdown",
      "metadata": {
        "id": "ou0BanWE3RHX"
      },
      "source": [
        "# Inspect Unique Values in each column"
      ]
    },
    {
      "cell_type": "code",
      "execution_count": 4,
      "metadata": {
        "colab": {
          "base_uri": "https://localhost:8080/"
        },
        "id": "VYfTNXKgYeDI",
        "outputId": "b9d331b8-5405-48f0-87f2-7e46db3cfad9"
      },
      "outputs": [
        {
          "output_type": "stream",
          "name": "stdout",
          "text": [
            "Column: customerID - Unique Values: ['7590-VHVEG' '5575-GNVDE' '3668-QPYBK' ... '4801-JZAZL' '8361-LTMKD'\n",
            " '3186-AJIEK']\n",
            "Column: gender - Unique Values: ['Female' 'Male']\n",
            "Column: SeniorCitizen - Unique Values: [0 1]\n",
            "Column: Partner - Unique Values: ['Yes' 'No']\n",
            "Column: Dependents - Unique Values: ['No' 'Yes']\n",
            "Column: tenure - Unique Values: [ 1 34  2 45  8 22 10 28 62 13 16 58 49 25 69 52 71 21 12 30 47 72 17 27\n",
            "  5 46 11 70 63 43 15 60 18 66  9  3 31 50 64 56  7 42 35 48 29 65 38 68\n",
            " 32 55 37 36 41  6  4 33 67 23 57 61 14 20 53 40 59 24 44 19 54 51 26  0\n",
            " 39]\n",
            "Column: PhoneService - Unique Values: ['No' 'Yes']\n",
            "Column: MultipleLines - Unique Values: ['No phone service' 'No' 'Yes']\n",
            "Column: InternetService - Unique Values: ['DSL' 'Fiber optic' 'No']\n",
            "Column: OnlineSecurity - Unique Values: ['No' 'Yes' 'No internet service']\n",
            "Column: OnlineBackup - Unique Values: ['Yes' 'No' 'No internet service']\n",
            "Column: DeviceProtection - Unique Values: ['No' 'Yes' 'No internet service']\n",
            "Column: TechSupport - Unique Values: ['No' 'Yes' 'No internet service']\n",
            "Column: StreamingTV - Unique Values: ['No' 'Yes' 'No internet service']\n",
            "Column: StreamingMovies - Unique Values: ['No' 'Yes' 'No internet service']\n",
            "Column: Contract - Unique Values: ['Month-to-month' 'One year' 'Two year']\n",
            "Column: PaperlessBilling - Unique Values: ['Yes' 'No']\n",
            "Column: PaymentMethod - Unique Values: ['Electronic check' 'Mailed check' 'Bank transfer (automatic)'\n",
            " 'Credit card (automatic)']\n",
            "Column: MonthlyCharges - Unique Values: [29.85 56.95 53.85 ... 63.1  44.2  78.7 ]\n",
            "Column: TotalCharges - Unique Values: ['29.85' '1889.5' '108.15' ... '346.45' '306.6' '6844.5']\n",
            "Column: Churn - Unique Values: ['No' 'Yes']\n"
          ]
        }
      ],
      "source": [
        "#check uniques values\n",
        "for column in d.columns:\n",
        "    print('Column: {} - Unique Values: {}'.format(column, d[column].unique()))"
      ]
    },
    {
      "cell_type": "markdown",
      "metadata": {
        "id": "P5KW9fxc3YjE"
      },
      "source": [
        "- **Total Charges shows numerical values but data description gives object type feature. So firstly we convert into numerical type feature.**\n",
        "\n",
        "- **If you see payment method have column values len of string is large , so also we remove automatic from Bank transfer (automatic)' and \n",
        " 'Credit card (automatic) to compact values name.**"
      ]
    },
    {
      "cell_type": "code",
      "execution_count": 5,
      "metadata": {
        "id": "bViIxgCWZ11F"
      },
      "outputs": [],
      "source": [
        "# transform the column TotalCharges into a numeric data type\n",
        "d['TotalCharges'] = pd.to_numeric(d['TotalCharges'], errors='coerce')\n",
        "d['PaymentMethod'] = d['PaymentMethod'].str.replace(' (automatic)', '', regex=False)"
      ]
    },
    {
      "cell_type": "markdown",
      "metadata": {
        "id": "u-KdVqYK4PPp"
      },
      "source": [
        "# Again Inspecting data format. "
      ]
    },
    {
      "cell_type": "code",
      "execution_count": 6,
      "metadata": {
        "colab": {
          "base_uri": "https://localhost:8080/"
        },
        "id": "BRWy-Nh0Z5dM",
        "outputId": "2ee8aecd-3747-440d-d3f9-68aac2552990"
      },
      "outputs": [
        {
          "output_type": "stream",
          "name": "stdout",
          "text": [
            "<class 'pandas.core.frame.DataFrame'>\n",
            "RangeIndex: 7043 entries, 0 to 7042\n",
            "Data columns (total 21 columns):\n",
            " #   Column            Non-Null Count  Dtype  \n",
            "---  ------            --------------  -----  \n",
            " 0   customerID        7043 non-null   object \n",
            " 1   gender            7043 non-null   object \n",
            " 2   SeniorCitizen     7043 non-null   int64  \n",
            " 3   Partner           7043 non-null   object \n",
            " 4   Dependents        7043 non-null   object \n",
            " 5   tenure            7043 non-null   int64  \n",
            " 6   PhoneService      7043 non-null   object \n",
            " 7   MultipleLines     7043 non-null   object \n",
            " 8   InternetService   7043 non-null   object \n",
            " 9   OnlineSecurity    7043 non-null   object \n",
            " 10  OnlineBackup      7043 non-null   object \n",
            " 11  DeviceProtection  7043 non-null   object \n",
            " 12  TechSupport       7043 non-null   object \n",
            " 13  StreamingTV       7043 non-null   object \n",
            " 14  StreamingMovies   7043 non-null   object \n",
            " 15  Contract          7043 non-null   object \n",
            " 16  PaperlessBilling  7043 non-null   object \n",
            " 17  PaymentMethod     7043 non-null   object \n",
            " 18  MonthlyCharges    7043 non-null   float64\n",
            " 19  TotalCharges      7032 non-null   float64\n",
            " 20  Churn             7043 non-null   object \n",
            "dtypes: float64(2), int64(2), object(17)\n",
            "memory usage: 1.1+ MB\n"
          ]
        }
      ],
      "source": [
        "#reading dataset\n",
        "d.info()"
      ]
    },
    {
      "cell_type": "markdown",
      "metadata": {
        "id": "ohxQDvVb4W7f"
      },
      "source": [
        "**Now data in proper format.So , now**\n",
        "- Numerical columns : 4\n",
        "- Categorical columns : 17"
      ]
    },
    {
      "cell_type": "markdown",
      "metadata": {
        "id": "T-idGhD444Kj"
      },
      "source": [
        "# Vislualised any null or Nan values present in data or not ?"
      ]
    },
    {
      "cell_type": "code",
      "execution_count": 7,
      "metadata": {
        "colab": {
          "base_uri": "https://localhost:8080/",
          "height": 314
        },
        "id": "0lIdStR2a6Uw",
        "outputId": "4561a917-2fa7-41c8-d2af-7ab181ffc071"
      },
      "outputs": [
        {
          "output_type": "execute_result",
          "data": {
            "text/plain": [
              "Text(0.5, 1.0, 'Missed Data')"
            ]
          },
          "metadata": {},
          "execution_count": 7
        },
        {
          "output_type": "display_data",
          "data": {
            "text/plain": [
              "<Figure size 1861.25x360 with 1 Axes>"
            ],
            "image/png": "[encoded data removed]"
          },
          "metadata": {
            "needs_background": "light"
          }
        }
      ],
      "source": [
        "#dispplot to visualized each column to see any miiising values are there\n",
        "sns.displot(data=d.isna().melt(value_name=\"missing\"),y=\"variable\",hue=\"missing\",multiple=\"fill\", aspect=5);\n",
        "plt.title('Missed Data')"
      ]
    },
    {
      "cell_type": "markdown",
      "metadata": {
        "id": "_UWhRDa55cVN"
      },
      "source": [
        "**If you see before the converting Total Charges in numerical, no missing values but after converted into numerical some missing values seen in a plot.**\n",
        "\n",
        "# Check total number of missing values in columns"
      ]
    },
    {
      "cell_type": "code",
      "execution_count": 8,
      "metadata": {
        "colab": {
          "base_uri": "https://localhost:8080/"
        },
        "id": "N8z6hoDsaFVl",
        "outputId": "16c5f3db-4643-4446-c743-0abb47bb676f"
      },
      "outputs": [
        {
          "output_type": "execute_result",
          "data": {
            "text/plain": [
              "customerID           0\n",
              "gender               0\n",
              "SeniorCitizen        0\n",
              "Partner              0\n",
              "Dependents           0\n",
              "tenure               0\n",
              "PhoneService         0\n",
              "MultipleLines        0\n",
              "InternetService      0\n",
              "OnlineSecurity       0\n",
              "OnlineBackup         0\n",
              "DeviceProtection     0\n",
              "TechSupport          0\n",
              "StreamingTV          0\n",
              "StreamingMovies      0\n",
              "Contract             0\n",
              "PaperlessBilling     0\n",
              "PaymentMethod        0\n",
              "MonthlyCharges       0\n",
              "TotalCharges        11\n",
              "Churn                0\n",
              "dtype: int64"
            ]
          },
          "metadata": {},
          "execution_count": 8
        }
      ],
      "source": [
        "#sum of total no. of null values in each columns\n",
        "d.isnull().sum()"
      ]
    },
    {
      "cell_type": "markdown",
      "metadata": {
        "id": "8jfT6KoO6pAq"
      },
      "source": [
        "**Total Charges having 11 null values so we can drop these values.**\n",
        "\n",
        "# Dimensional Reduction : Part 1\n",
        "- Drop missing value rows \n",
        "- Drop a redundant column - CustomerID"
      ]
    },
    {
      "cell_type": "code",
      "execution_count": 9,
      "metadata": {
        "colab": {
          "base_uri": "https://localhost:8080/"
        },
        "id": "CNlMLgeSaQGR",
        "outputId": "c2aae84c-1d94-4911-ccfb-7149afedd39a"
      },
      "outputs": [
        {
          "output_type": "execute_result",
          "data": {
            "text/plain": [
              "gender              0\n",
              "SeniorCitizen       0\n",
              "Partner             0\n",
              "Dependents          0\n",
              "tenure              0\n",
              "PhoneService        0\n",
              "MultipleLines       0\n",
              "InternetService     0\n",
              "OnlineSecurity      0\n",
              "OnlineBackup        0\n",
              "DeviceProtection    0\n",
              "TechSupport         0\n",
              "StreamingTV         0\n",
              "StreamingMovies     0\n",
              "Contract            0\n",
              "PaperlessBilling    0\n",
              "PaymentMethod       0\n",
              "MonthlyCharges      0\n",
              "TotalCharges        0\n",
              "Churn               0\n",
              "dtype: int64"
            ]
          },
          "metadata": {},
          "execution_count": 9
        }
      ],
      "source": [
        "#drop misssing rows and unwanted column\n",
        "d.dropna(inplace=True)\n",
        "d.drop(columns='customerID', inplace=True)\n",
        "\n",
        "#let's inspecting datset if any redundant part or missing values exist in dataset\n",
        "d.isnull().sum()"
      ]
    },
    {
      "cell_type": "markdown",
      "metadata": {
        "id": "ni96veMfBfHP"
      },
      "source": [
        "# Creating Independent and Dependent variable\n",
        "\n",
        "**X have all independent features for modelling and prediction.**"
      ]
    },
    {
      "cell_type": "code",
      "execution_count": 10,
      "metadata": {
        "colab": {
          "base_uri": "https://localhost:8080/",
          "height": 340
        },
        "id": "_nynNQDF1qAm",
        "outputId": "495ac4da-6b55-4bf5-9173-bf142eab9f0b"
      },
      "outputs": [
        {
          "output_type": "execute_result",
          "data": {
            "text/plain": [
              "   gender  SeniorCitizen Partner Dependents  tenure PhoneService  \\\n",
              "0  Female              0     Yes         No       1           No   \n",
              "1    Male              0      No         No      34          Yes   \n",
              "2    Male              0      No         No       2          Yes   \n",
              "3    Male              0      No         No      45           No   \n",
              "4  Female              0      No         No       2          Yes   \n",
              "\n",
              "      MultipleLines InternetService OnlineSecurity OnlineBackup  \\\n",
              "0  No phone service             DSL             No          Yes   \n",
              "1                No             DSL            Yes           No   \n",
              "2                No             DSL            Yes          Yes   \n",
              "3  No phone service             DSL            Yes           No   \n",
              "4                No     Fiber optic             No           No   \n",
              "\n",
              "  DeviceProtection TechSupport StreamingTV StreamingMovies        Contract  \\\n",
              "0               No          No          No              No  Month-to-month   \n",
              "1              Yes          No          No              No        One year   \n",
              "2               No          No          No              No  Month-to-month   \n",
              "3              Yes         Yes          No              No        One year   \n",
              "4               No          No          No              No  Month-to-month   \n",
              "\n",
              "  PaperlessBilling     PaymentMethod  MonthlyCharges  TotalCharges  \n",
              "0              Yes  Electronic check           29.85         29.85  \n",
              "1               No      Mailed check           56.95       1889.50  \n",
              "2              Yes      Mailed check           53.85        108.15  \n",
              "3               No     Bank transfer           42.30       1840.75  \n",
              "4              Yes  Electronic check           70.70        151.65  "
            ],
            "text/html": [
              "\n",
              "  <div id=\"df-7563f488-b818-4555-8e93-41e38c4179f9\">\n",
              "    <div class=\"colab-df-container\">\n",
              "      <div>\n",
              "<style scoped>\n",
              "    .dataframe tbody tr th:only-of-type {\n",
              "        vertical-align: middle;\n",
              "    }\n",
              "\n",
              "    .dataframe tbody tr th {\n",
              "        vertical-align: top;\n",
              "    }\n",
              "\n",
              "    .dataframe thead th {\n",
              "        text-align: right;\n",
              "    }\n",
              "</style>\n",
              "<table border=\"1\" class=\"dataframe\">\n",
              "  <thead>\n",
              "    <tr style=\"text-align: right;\">\n",
              "      <th></th>\n",
              "      <th>gender</th>\n",
              "      <th>SeniorCitizen</th>\n",
              "      <th>Partner</th>\n",
              "      <th>Dependents</th>\n",
              "      <th>tenure</th>\n",
              "      <th>PhoneService</th>\n",
              "      <th>MultipleLines</th>\n",
              "      <th>InternetService</th>\n",
              "      <th>OnlineSecurity</th>\n",
              "      <th>OnlineBackup</th>\n",
              "      <th>DeviceProtection</th>\n",
              "      <th>TechSupport</th>\n",
              "      <th>StreamingTV</th>\n",
              "      <th>StreamingMovies</th>\n",
              "      <th>Contract</th>\n",
              "      <th>PaperlessBilling</th>\n",
              "      <th>PaymentMethod</th>\n",
              "      <th>MonthlyCharges</th>\n",
              "      <th>TotalCharges</th>\n",
              "    </tr>\n",
              "  </thead>\n",
              "  <tbody>\n",
              "    <tr>\n",
              "      <th>0</th>\n",
              "      <td>Female</td>\n",
              "      <td>0</td>\n",
              "      <td>Yes</td>\n",
              "      <td>No</td>\n",
              "      <td>1</td>\n",
              "      <td>No</td>\n",
              "      <td>No phone service</td>\n",
              "      <td>DSL</td>\n",
              "      <td>No</td>\n",
              "      <td>Yes</td>\n",
              "      <td>No</td>\n",
              "      <td>No</td>\n",
              "      <td>No</td>\n",
              "      <td>No</td>\n",
              "      <td>Month-to-month</td>\n",
              "      <td>Yes</td>\n",
              "      <td>Electronic check</td>\n",
              "      <td>29.85</td>\n",
              "      <td>29.85</td>\n",
              "    </tr>\n",
              "    <tr>\n",
              "      <th>1</th>\n",
              "      <td>Male</td>\n",
              "      <td>0</td>\n",
              "      <td>No</td>\n",
              "      <td>No</td>\n",
              "      <td>34</td>\n",
              "      <td>Yes</td>\n",
              "      <td>No</td>\n",
              "      <td>DSL</td>\n",
              "      <td>Yes</td>\n",
              "      <td>No</td>\n",
              "      <td>Yes</td>\n",
              "      <td>No</td>\n",
              "      <td>No</td>\n",
              "      <td>No</td>\n",
              "      <td>One year</td>\n",
              "      <td>No</td>\n",
              "      <td>Mailed check</td>\n",
              "      <td>56.95</td>\n",
              "      <td>1889.50</td>\n",
              "    </tr>\n",
              "    <tr>\n",
              "      <th>2</th>\n",
              "      <td>Male</td>\n",
              "      <td>0</td>\n",
              "      <td>No</td>\n",
              "      <td>No</td>\n",
              "      <td>2</td>\n",
              "      <td>Yes</td>\n",
              "      <td>No</td>\n",
              "      <td>DSL</td>\n",
              "      <td>Yes</td>\n",
              "      <td>Yes</td>\n",
              "      <td>No</td>\n",
              "      <td>No</td>\n",
              "      <td>No</td>\n",
              "      <td>No</td>\n",
              "      <td>Month-to-month</td>\n",
              "      <td>Yes</td>\n",
              "      <td>Mailed check</td>\n",
              "      <td>53.85</td>\n",
              "      <td>108.15</td>\n",
              "    </tr>\n",
              "    <tr>\n",
              "      <th>3</th>\n",
              "      <td>Male</td>\n",
              "      <td>0</td>\n",
              "      <td>No</td>\n",
              "      <td>No</td>\n",
              "      <td>45</td>\n",
              "      <td>No</td>\n",
              "      <td>No phone service</td>\n",
              "      <td>DSL</td>\n",
              "      <td>Yes</td>\n",
              "      <td>No</td>\n",
              "      <td>Yes</td>\n",
              "      <td>Yes</td>\n",
              "      <td>No</td>\n",
              "      <td>No</td>\n",
              "      <td>One year</td>\n",
              "      <td>No</td>\n",
              "      <td>Bank transfer</td>\n",
              "      <td>42.30</td>\n",
              "      <td>1840.75</td>\n",
              "    </tr>\n",
              "    <tr>\n",
              "      <th>4</th>\n",
              "      <td>Female</td>\n",
              "      <td>0</td>\n",
              "      <td>No</td>\n",
              "      <td>No</td>\n",
              "      <td>2</td>\n",
              "      <td>Yes</td>\n",
              "      <td>No</td>\n",
              "      <td>Fiber optic</td>\n",
              "      <td>No</td>\n",
              "      <td>No</td>\n",
              "      <td>No</td>\n",
              "      <td>No</td>\n",
              "      <td>No</td>\n",
              "      <td>No</td>\n",
              "      <td>Month-to-month</td>\n",
              "      <td>Yes</td>\n",
              "      <td>Electronic check</td>\n",
              "      <td>70.70</td>\n",
              "      <td>151.65</td>\n",
              "    </tr>\n",
              "  </tbody>\n",
              "</table>\n",
              "</div>\n",
              "      <button class=\"colab-df-convert\" onclick=\"convertToInteractive('df-7563f488-b818-4555-8e93-41e38c4179f9')\"\n",
              "              title=\"Convert this dataframe to an interactive table.\"\n",
              "              style=\"display:none;\">\n",
              "        \n",
              "  <svg xmlns=\"http://www.w3.org/2000/svg\" height=\"24px\"viewBox=\"0 0 24 24\"\n",
              "       width=\"24px\">\n",
              "    <path d=\"M0 0h24v24H0V0z\" fill=\"none\"/>\n",
              "    <path d=\"M18.56 5.44l.94 2.06.94-2.06 2.06-.94-2.06-.94-.94-2.06-.94 2.06-2.06.94zm-11 1L8.5 8.5l.94-2.06 2.06-.94-2.06-.94L8.5 2.5l-.94 2.06-2.06.94zm10 10l.94 2.06.94-2.06 2.06-.94-2.06-.94-.94-2.06-.94 2.06-2.06.94z\"/><path d=\"M17.41 7.96l-1.37-1.37c-.4-.4-.92-.59-1.43-.59-.52 0-1.04.2-1.43.59L10.3 9.45l-7.72 7.72c-.78.78-.78 2.05 0 2.83L4 21.41c.39.39.9.59 1.41.59.51 0 1.02-.2 1.41-.59l7.78-7.78 2.81-2.81c.8-.78.8-2.07 0-2.86zM5.41 20L4 18.59l7.72-7.72 1.47 1.35L5.41 20z\"/>\n",
              "  </svg>\n",
              "      </button>\n",
              "      \n",
              "  <style>\n",
              "    .colab-df-container {\n",
              "      display:flex;\n",
              "      flex-wrap:wrap;\n",
              "      gap: 12px;\n",
              "    }\n",
              "\n",
              "    .colab-df-convert {\n",
              "      background-color: #E8F0FE;\n",
              "      border: none;\n",
              "      border-radius: 50%;\n",
              "      cursor: pointer;\n",
              "      display: none;\n",
              "      fill: #1967D2;\n",
              "      height: 32px;\n",
              "      padding: 0 0 0 0;\n",
              "      width: 32px;\n",
              "    }\n",
              "\n",
              "    .colab-df-convert:hover {\n",
              "      background-color: #E2EBFA;\n",
              "      box-shadow: 0px 1px 2px rgba(60, 64, 67, 0.3), 0px 1px 3px 1px rgba(60, 64, 67, 0.15);\n",
              "      fill: #174EA6;\n",
              "    }\n",
              "\n",
              "    [theme=dark] .colab-df-convert {\n",
              "      background-color: #3B4455;\n",
              "      fill: #D2E3FC;\n",
              "    }\n",
              "\n",
              "    [theme=dark] .colab-df-convert:hover {\n",
              "      background-color: #434B5C;\n",
              "      box-shadow: 0px 1px 3px 1px rgba(0, 0, 0, 0.15);\n",
              "      filter: drop-shadow(0px 1px 2px rgba(0, 0, 0, 0.3));\n",
              "      fill: #FFFFFF;\n",
              "    }\n",
              "  </style>\n",
              "\n",
              "      <script>\n",
              "        const buttonEl =\n",
              "          document.querySelector('#df-7563f488-b818-4555-8e93-41e38c4179f9 button.colab-df-convert');\n",
              "        buttonEl.style.display =\n",
              "          google.colab.kernel.accessAllowed ? 'block' : 'none';\n",
              "\n",
              "        async function convertToInteractive(key) {\n",
              "          const element = document.querySelector('#df-7563f488-b818-4555-8e93-41e38c4179f9');\n",
              "          const dataTable =\n",
              "            await google.colab.kernel.invokeFunction('convertToInteractive',\n",
              "                                                     [key], {});\n",
              "          if (!dataTable) return;\n",
              "\n",
              "          const docLinkHtml = 'Like what you see? Visit the ' +\n",
              "            '<a target=\"_blank\" href=https://colab.research.google.com/notebooks/data_table.ipynb>data table notebook</a>'\n",
              "            + ' to learn more about interactive tables.';\n",
              "          element.innerHTML = '';\n",
              "          dataTable['output_type'] = 'display_data';\n",
              "          await google.colab.output.renderOutput(dataTable, element);\n",
              "          const docLink = document.createElement('div');\n",
              "          docLink.innerHTML = docLinkHtml;\n",
              "          element.appendChild(docLink);\n",
              "        }\n",
              "      </script>\n",
              "    </div>\n",
              "  </div>\n",
              "  "
            ]
          },
          "metadata": {},
          "execution_count": 10
        }
      ],
      "source": [
        "#asiigning x for selecting independent features\n",
        "x=d.iloc[0:,:19]\n",
        "x.head()"
      ]
    },
    {
      "cell_type": "markdown",
      "metadata": {
        "id": "0sK7yfyDCXCQ"
      },
      "source": [
        "# Creating target column "
      ]
    },
    {
      "cell_type": "code",
      "execution_count": 11,
      "metadata": {
        "colab": {
          "base_uri": "https://localhost:8080/",
          "height": 206
        },
        "id": "pIRlX_-n3S4R",
        "outputId": "1260e6a5-0f8d-41a7-8208-daaa3e23018a"
      },
      "outputs": [
        {
          "output_type": "execute_result",
          "data": {
            "text/plain": [
              "  Churn\n",
              "0    No\n",
              "1    No\n",
              "2   Yes\n",
              "3    No\n",
              "4   Yes"
            ],
            "text/html": [
              "\n",
              "  <div id=\"df-fb750633-be80-4b80-9f13-f77ad6d71b94\">\n",
              "    <div class=\"colab-df-container\">\n",
              "      <div>\n",
              "<style scoped>\n",
              "    .dataframe tbody tr th:only-of-type {\n",
              "        vertical-align: middle;\n",
              "    }\n",
              "\n",
              "    .dataframe tbody tr th {\n",
              "        vertical-align: top;\n",
              "    }\n",
              "\n",
              "    .dataframe thead th {\n",
              "        text-align: right;\n",
              "    }\n",
              "</style>\n",
              "<table border=\"1\" class=\"dataframe\">\n",
              "  <thead>\n",
              "    <tr style=\"text-align: right;\">\n",
              "      <th></th>\n",
              "      <th>Churn</th>\n",
              "    </tr>\n",
              "  </thead>\n",
              "  <tbody>\n",
              "    <tr>\n",
              "      <th>0</th>\n",
              "      <td>No</td>\n",
              "    </tr>\n",
              "    <tr>\n",
              "      <th>1</th>\n",
              "      <td>No</td>\n",
              "    </tr>\n",
              "    <tr>\n",
              "      <th>2</th>\n",
              "      <td>Yes</td>\n",
              "    </tr>\n",
              "    <tr>\n",
              "      <th>3</th>\n",
              "      <td>No</td>\n",
              "    </tr>\n",
              "    <tr>\n",
              "      <th>4</th>\n",
              "      <td>Yes</td>\n",
              "    </tr>\n",
              "  </tbody>\n",
              "</table>\n",
              "</div>\n",
              "      <button class=\"colab-df-convert\" onclick=\"convertToInteractive('df-fb750633-be80-4b80-9f13-f77ad6d71b94')\"\n",
              "              title=\"Convert this dataframe to an interactive table.\"\n",
              "              style=\"display:none;\">\n",
              "        \n",
              "  <svg xmlns=\"http://www.w3.org/2000/svg\" height=\"24px\"viewBox=\"0 0 24 24\"\n",
              "       width=\"24px\">\n",
              "    <path d=\"M0 0h24v24H0V0z\" fill=\"none\"/>\n",
              "    <path d=\"M18.56 5.44l.94 2.06.94-2.06 2.06-.94-2.06-.94-.94-2.06-.94 2.06-2.06.94zm-11 1L8.5 8.5l.94-2.06 2.06-.94-2.06-.94L8.5 2.5l-.94 2.06-2.06.94zm10 10l.94 2.06.94-2.06 2.06-.94-2.06-.94-.94-2.06-.94 2.06-2.06.94z\"/><path d=\"M17.41 7.96l-1.37-1.37c-.4-.4-.92-.59-1.43-.59-.52 0-1.04.2-1.43.59L10.3 9.45l-7.72 7.72c-.78.78-.78 2.05 0 2.83L4 21.41c.39.39.9.59 1.41.59.51 0 1.02-.2 1.41-.59l7.78-7.78 2.81-2.81c.8-.78.8-2.07 0-2.86zM5.41 20L4 18.59l7.72-7.72 1.47 1.35L5.41 20z\"/>\n",
              "  </svg>\n",
              "      </button>\n",
              "      \n",
              "  <style>\n",
              "    .colab-df-container {\n",
              "      display:flex;\n",
              "      flex-wrap:wrap;\n",
              "      gap: 12px;\n",
              "    }\n",
              "\n",
              "    .colab-df-convert {\n",
              "      background-color: #E8F0FE;\n",
              "      border: none;\n",
              "      border-radius: 50%;\n",
              "      cursor: pointer;\n",
              "      display: none;\n",
              "      fill: #1967D2;\n",
              "      height: 32px;\n",
              "      padding: 0 0 0 0;\n",
              "      width: 32px;\n",
              "    }\n",
              "\n",
              "    .colab-df-convert:hover {\n",
              "      background-color: #E2EBFA;\n",
              "      box-shadow: 0px 1px 2px rgba(60, 64, 67, 0.3), 0px 1px 3px 1px rgba(60, 64, 67, 0.15);\n",
              "      fill: #174EA6;\n",
              "    }\n",
              "\n",
              "    [theme=dark] .colab-df-convert {\n",
              "      background-color: #3B4455;\n",
              "      fill: #D2E3FC;\n",
              "    }\n",
              "\n",
              "    [theme=dark] .colab-df-convert:hover {\n",
              "      background-color: #434B5C;\n",
              "      box-shadow: 0px 1px 3px 1px rgba(0, 0, 0, 0.15);\n",
              "      filter: drop-shadow(0px 1px 2px rgba(0, 0, 0, 0.3));\n",
              "      fill: #FFFFFF;\n",
              "    }\n",
              "  </style>\n",
              "\n",
              "      <script>\n",
              "        const buttonEl =\n",
              "          document.querySelector('#df-fb750633-be80-4b80-9f13-f77ad6d71b94 button.colab-df-convert');\n",
              "        buttonEl.style.display =\n",
              "          google.colab.kernel.accessAllowed ? 'block' : 'none';\n",
              "\n",
              "        async function convertToInteractive(key) {\n",
              "          const element = document.querySelector('#df-fb750633-be80-4b80-9f13-f77ad6d71b94');\n",
              "          const dataTable =\n",
              "            await google.colab.kernel.invokeFunction('convertToInteractive',\n",
              "                                                     [key], {});\n",
              "          if (!dataTable) return;\n",
              "\n",
              "          const docLinkHtml = 'Like what you see? Visit the ' +\n",
              "            '<a target=\"_blank\" href=https://colab.research.google.com/notebooks/data_table.ipynb>data table notebook</a>'\n",
              "            + ' to learn more about interactive tables.';\n",
              "          element.innerHTML = '';\n",
              "          dataTable['output_type'] = 'display_data';\n",
              "          await google.colab.output.renderOutput(dataTable, element);\n",
              "          const docLink = document.createElement('div');\n",
              "          docLink.innerHTML = docLinkHtml;\n",
              "          element.appendChild(docLink);\n",
              "        }\n",
              "      </script>\n",
              "    </div>\n",
              "  </div>\n",
              "  "
            ]
          },
          "metadata": {},
          "execution_count": 11
        }
      ],
      "source": [
        "#assign y as dependent feature(churn)\n",
        "y=d.iloc[0:,19:]\n",
        "y.head()"
      ]
    },
    {
      "cell_type": "markdown",
      "metadata": {
        "id": "8WyeXDEyDj6x"
      },
      "source": [
        "# Creating Numerical and categorical variable"
      ]
    },
    {
      "cell_type": "code",
      "execution_count": 12,
      "metadata": {
        "colab": {
          "base_uri": "https://localhost:8080/"
        },
        "id": "JwFhkLXZfBN8",
        "outputId": "7f232ccd-e931-4932-87f3-b1431aa6b190"
      },
      "outputs": [
        {
          "output_type": "stream",
          "name": "stdout",
          "text": [
            "numerical columns :  Index(['SeniorCitizen', 'tenure', 'MonthlyCharges', 'TotalCharges'], dtype='object')\n",
            "\n",
            "categorical columns :  Index(['gender', 'Partner', 'Dependents', 'PhoneService', 'MultipleLines',\n",
            "       'InternetService', 'OnlineSecurity', 'OnlineBackup', 'DeviceProtection',\n",
            "       'TechSupport', 'StreamingTV', 'StreamingMovies', 'Contract',\n",
            "       'PaperlessBilling', 'PaymentMethod'],\n",
            "      dtype='object')\n"
          ]
        }
      ],
      "source": [
        "#num varible assigning for numerical columns\n",
        "num=x.select_dtypes(\"number\").columns\n",
        "\n",
        "#cat varible assigning for categorical columns\n",
        "cat=x.select_dtypes(\"object\").columns\n",
        "cat_=d[cat]\n",
        "#print num and cat columns\n",
        "print(\"numerical columns : \",num)\n",
        "print(\"\\ncategorical columns : \", cat)"
      ]
    },
    {
      "cell_type": "markdown",
      "metadata": {
        "id": "iDPVE38BE17A"
      },
      "source": [
        "# ***Data Visualization***\n",
        "****"
      ]
    },
    {
      "cell_type": "markdown",
      "metadata": {
        "id": "Ki_kk60Da2-F"
      },
      "source": [
        "# Inspecting target column"
      ]
    },
    {
      "cell_type": "code",
      "execution_count": 13,
      "metadata": {
        "colab": {
          "base_uri": "https://localhost:8080/",
          "height": 296
        },
        "id": "Rx9HzoWyasGO",
        "outputId": "0ccd9573-1e90-4b47-cf1d-7c0637c6da63"
      },
      "outputs": [
        {
          "output_type": "execute_result",
          "data": {
            "text/plain": [
              "<matplotlib.axes._subplots.AxesSubplot at 0x7f9f62bba670>"
            ]
          },
          "metadata": {},
          "execution_count": 13
        },
        {
          "output_type": "display_data",
          "data": {
            "text/plain": [
              "<Figure size 432x288 with 1 Axes>"
            ],
            "image/png": "[encoded data removed]"
          },
          "metadata": {
            "needs_background": "light"
          }
        }
      ],
      "source": [
        "sns.countplot(x=y['Churn'])"
      ]
    },
    {
      "cell_type": "markdown",
      "metadata": {
        "id": "o6YIJbhdGjV1"
      },
      "source": [
        "- **'No' represent no of non-churner whose not much coustomer maintained relationship, and 'Yes' represent no. of customer maintained relationship.**\n",
        "\n",
        "- **'No' has high raised as compared to 'Yes'.**\n"
      ]
    },
    {
      "cell_type": "markdown",
      "metadata": {
        "id": "nUTPDOF7IZKF"
      },
      "source": [
        "\n",
        "# Visualize categorical features"
      ]
    },
    {
      "cell_type": "code",
      "execution_count": 14,
      "metadata": {
        "colab": {
          "base_uri": "https://localhost:8080/",
          "height": 1000
        },
        "id": "YbZl99LqdPPn",
        "outputId": "2ae4927e-d0aa-4cea-adb5-268a6eb5d444"
      },
      "outputs": [
        {
          "output_type": "display_data",
          "data": {
            "text/plain": [
              "<Figure size 1512x1080 with 15 Axes>"
            ],
            "image/png": "[encoded data removed]"
          },
          "metadata": {
            "needs_background": "light"
          }
        }
      ],
      "source": [
        "# visualize countplot for categorical \n",
        "figure = plt.figure(figsize = (21,15))\n",
        "for i, col in enumerate(cat): \n",
        "        ax = plt.subplot(4, 4, i+1)\n",
        "        sns.countplot(x=x[col], hue=y['Churn'], order=x[col].value_counts().index)\n",
        "        plt.title(col)\n",
        "figure.tight_layout(h_pad=3.0, w_pad=0.5)\n",
        "figure.suptitle('The Count plot for all categorical features', fontsize=20, y=1.01)\n",
        "plt.show()"
      ]
    },
    {
      "cell_type": "markdown",
      "metadata": {
        "id": "NKeNUY9fJ0Z2"
      },
      "source": [
        "- Female and male have some count of yes/no.If you see no more no. male churns or female churns as compared to each other.It clealy seen gender is not much affect on churning action.\n",
        "- Partner , non-churner have more partners as compared to churner out of 3393.\n",
        "- Very less no. of churner are dependend as compared to non churner. \n",
        "- Both churner and non churner have phone services.\n",
        "- No mutlple lines are used both churner and non churner.\n",
        "- Churner have larger number(total no. 3096)  of ofc internet servicesthan other internet service.\n",
        "- Many people not used any intern online security.\n",
        "- Churner not used online backup, tech support & device protection and but as compared to non churner high rised peak as compared to churner for not using backup, tech support & device protection.\n",
        "- Streming tv and moives is depende on they have internet service or not but we can see in a both graph show same result.Churner used less streming tv and movies as compared to non-churner.\n",
        "- Montly contract churner are less compared to non-churner.1500- 1600 churner have monthly contract but 2000+ non-churner have monthly contract.Means mostly people used one month not for longer time.\n",
        "very few churner have one year and two year contract.\n",
        "\n",
        "- Mostly Electronic check churner used to payment."
      ]
    },
    {
      "cell_type": "markdown",
      "metadata": {
        "id": "fdcEiG4CTJF2"
      },
      "source": [
        "# Visualize numerical features"
      ]
    },
    {
      "cell_type": "code",
      "execution_count": 15,
      "metadata": {
        "colab": {
          "base_uri": "https://localhost:8080/",
          "height": 747
        },
        "id": "b52s0GbFCvXf",
        "outputId": "132a249c-3eb8-4892-f1ff-81e79f0c9aa2"
      },
      "outputs": [
        {
          "output_type": "display_data",
          "data": {
            "text/plain": [
              "<Figure size 720x720 with 4 Axes>"
            ],
            "image/png": "[encoded data removed]"
          },
          "metadata": {
            "needs_background": "light"
          }
        }
      ],
      "source": [
        "# visualize countplot of numerical features\n",
        "figure = plt.figure(figsize = (10,10))\n",
        "for i, col in enumerate(num): \n",
        "        ax = plt.subplot(2,2, i+1)\n",
        "        sns.histplot(x=x[col], hue=y['Churn'],kde=True)\n",
        "        plt.title(col)\n",
        "figure.tight_layout(h_pad=3.0, w_pad=0.5)\n",
        "figure.suptitle('The Count plot for all numerical features', fontsize=20, y=1.01)\n",
        "plt.show()"
      ]
    },
    {
      "cell_type": "markdown",
      "metadata": {
        "id": "k4bJZjtyUJAD"
      },
      "source": [
        "- Both Churner and non-churners are very less senior citizens.i.e. out of 7043 only 1142 are senior citizens are part of telco.\n",
        "- If you see clearly only churner have 5 months long tenure with telco, which almost reached 750 total count.And range of months the non-churner has stayed with the company is varied between 1 to 75 months.\n",
        "- Monthly charges for churner less fluctaute.\n",
        "- Non churner with high total charges are less likely to leave the company.\n",
        "\n",
        "\n",
        "- Our dataset is not followed normaildistribution so we can handle during feature engineering."
      ]
    },
    {
      "cell_type": "markdown",
      "metadata": {
        "id": "eUZlY8zhTGGa"
      },
      "source": [
        "# Visualize Outilers "
      ]
    },
    {
      "cell_type": "code",
      "execution_count": 16,
      "metadata": {
        "colab": {
          "base_uri": "https://localhost:8080/",
          "height": 369
        },
        "id": "UlTHX95iFSXL",
        "outputId": "0aa24a4b-4889-470c-ee8c-ef8fd391cec6"
      },
      "outputs": [
        {
          "output_type": "display_data",
          "data": {
            "text/plain": [
              "<Figure size 1080x360 with 4 Axes>"
            ],
            "image/png": "[encoded data removed]"
          },
          "metadata": {
            "needs_background": "light"
          }
        }
      ],
      "source": [
        "#plot any outlilers exist in \n",
        "figure = plt.figure(figsize = (15,5))\n",
        "for i, col in enumerate(num): \n",
        "        ax = plt.subplot(2, 2, i+1)\n",
        "        sns.boxplot(ax=ax, data=d,x=d[col])\n",
        "        plt.title(col)\n",
        "figure.tight_layout(h_pad=3.0, w_pad=0.5)\n",
        "plt.show()"
      ]
    },
    {
      "cell_type": "markdown",
      "metadata": {
        "id": "9vR3dpgnXokP"
      },
      "source": [
        "**No outlier detect in data set so, no outlier handling required.**"
      ]
    },
    {
      "cell_type": "markdown",
      "source": [
        "# ***Feature Selection*** \n",
        "****\n",
        "\n",
        "Feature selection is the process of reducing the number of input variables when developing a predictive model.\n",
        "\n",
        "It is desirable to reduce the number of input variables to both reduce the computational cost of modeling and, in some cases, to improve the performance of the model."
      ],
      "metadata": {
        "id": "koxBG8ngIh23"
      }
    },
    {
      "cell_type": "markdown",
      "source": [
        "# Mutual Information for feature selection\n",
        "- Mutual Information measures the entropy drops under the condition of the target value. \n",
        "\n",
        "- The MI score will fall in the range from 0 to ∞. The higher value, the closer connection between this feature and the target, which suggests that we should put this feature in the training dataset. If the MI score is 0 the low score suggests a weak connection between this feature and the target."
      ],
      "metadata": {
        "id": "9zm8_ErvJHq-"
      }
    },
    {
      "cell_type": "code",
      "execution_count": 17,
      "metadata": {
        "colab": {
          "base_uri": "https://localhost:8080/"
        },
        "id": "l0B8DoEZJFal",
        "outputId": "a34ccec6-cae0-4b2d-fa45-304ec0a6a4a3"
      },
      "outputs": [
        {
          "output_type": "stream",
          "name": "stdout",
          "text": [
            "Contract            0.098182\n",
            "OnlineSecurity      0.064528\n",
            "TechSupport         0.062873\n",
            "InternetService     0.055394\n",
            "OnlineBackup        0.046659\n",
            "PaymentMethod       0.044423\n",
            "DeviceProtection    0.043784\n",
            "StreamingMovies     0.031918\n",
            "StreamingTV         0.031803\n",
            "PaperlessBilling    0.019119\n",
            "Dependents          0.014270\n",
            "Partner             0.011383\n",
            "MultipleLines       0.000798\n",
            "PhoneService        0.000069\n",
            "gender              0.000037\n",
            "dtype: float64\n"
          ]
        }
      ],
      "source": [
        "#feature importance for feature selection\n",
        "def compute_mutual_information(cat):\n",
        "    return mutual_info_score(cat, d.Churn)\n",
        "\n",
        "# select categorial variables excluding the response variable \n",
        "categorical_variables = d.select_dtypes(include=object).drop('Churn', axis=1)\n",
        "\n",
        "# compute the mutual information score between each categorical variable and the target\n",
        "feature_importance = categorical_variables.apply(compute_mutual_information).sort_values(ascending=False)\n",
        "\n",
        "# visualize feature importance\n",
        "print(feature_importance)"
      ]
    },
    {
      "cell_type": "markdown",
      "source": [
        "**Using matual information score we see can feature importance towards te target. So, gender and phone service have very low scores as compared to other.**\n",
        "\n",
        "# Visualize Features Importance"
      ],
      "metadata": {
        "id": "OoApjmeXKsRV"
      }
    },
    {
      "cell_type": "code",
      "execution_count": 18,
      "metadata": {
        "colab": {
          "base_uri": "https://localhost:8080/",
          "height": 281
        },
        "id": "HvojlH56SspF",
        "outputId": "97699804-5c1f-45b9-b406-d87e8b2c4315"
      },
      "outputs": [
        {
          "output_type": "display_data",
          "data": {
            "text/plain": [
              "<Figure size 576x288 with 1 Axes>"
            ],
            "image/png": "[encoded data removed]"
          },
          "metadata": {
            "needs_background": "light"
          }
        }
      ],
      "source": [
        "#plot the mutual info. score for independent features \n",
        "def plot_mi_scores(feature_importance):\n",
        "    scores = feature_importance.sort_values(ascending=True)\n",
        "    width = np.arange(len(scores))\n",
        "    ticks = list(scores.index)\n",
        "    plt.barh(width, scores)\n",
        "    plt.yticks(width, ticks)\n",
        "    plt.title(\"Mutual Information Scores for independent features\")\n",
        "\n",
        "plt.figure(figsize=(8, 4))\n",
        "plot_mi_scores(feature_importance)"
      ]
    },
    {
      "cell_type": "markdown",
      "source": [
        "**Here, after visualized the feature importance using mutal info. score. Phone service and gender are almost 0 which shows the not strong relationship with target column churn. It gives very less informative for modelling and predicting target. So we can remove redundent columns.**"
      ],
      "metadata": {
        "id": "1HMxzbvHMAj8"
      }
    },
    {
      "cell_type": "markdown",
      "source": [
        "# Dimesional Redection : Part 2"
      ],
      "metadata": {
        "id": "R7jUdKvRNFdh"
      }
    },
    {
      "cell_type": "code",
      "execution_count": 19,
      "metadata": {
        "colab": {
          "base_uri": "https://localhost:8080/"
        },
        "id": "yHNI2XyzTT-b",
        "outputId": "8ca44d66-a0e8-4d7d-e129-0ec5a454f77b"
      },
      "outputs": [
        {
          "output_type": "execute_result",
          "data": {
            "text/plain": [
              "Index(['SeniorCitizen', 'Partner', 'Dependents', 'tenure', 'MultipleLines',\n",
              "       'InternetService', 'OnlineSecurity', 'OnlineBackup', 'DeviceProtection',\n",
              "       'TechSupport', 'StreamingTV', 'StreamingMovies', 'Contract',\n",
              "       'PaperlessBilling', 'PaymentMethod', 'MonthlyCharges', 'TotalCharges'],\n",
              "      dtype='object')"
            ]
          },
          "metadata": {},
          "execution_count": 19
        }
      ],
      "source": [
        "#drop columns\n",
        "x.drop(['gender','PhoneService'], axis=1, inplace=True)\n",
        "#check columns after dropping\n",
        "x.columns"
      ]
    },
    {
      "cell_type": "markdown",
      "source": [
        "# ***Feature Engineering***\n",
        "****\n",
        "Feature engineering is a machine learning technique that leverages data to create new variables that aren’t in the training set. It can produce new features for both supervised and unsupervised learning, with the goal of simplifying and speeding up data transformations while also enhancing model accuracy. Feature engineering is required when working with machine learning models."
      ],
      "metadata": {
        "id": "T1tXCooGN3JK"
      }
    },
    {
      "cell_type": "markdown",
      "source": [
        "# Label Encoding\n",
        "Label encoding is used to replace categorical values with numerical values. This encoding replaces every category with a numerical label."
      ],
      "metadata": {
        "id": "Hg-ujDefOff_"
      }
    },
    {
      "cell_type": "code",
      "execution_count": 20,
      "metadata": {
        "colab": {
          "base_uri": "https://localhost:8080/",
          "height": 340
        },
        "id": "Fli_3zJQXFNq",
        "outputId": "41bd1aa9-1757-48fa-96b4-29c5a5e03762"
      },
      "outputs": [
        {
          "output_type": "execute_result",
          "data": {
            "text/plain": [
              "   SeniorCitizen  Partner  Dependents  tenure     MultipleLines  \\\n",
              "0              0        1           0       1  No phone service   \n",
              "1              0        0           0      34                 0   \n",
              "2              0        0           0       2                 0   \n",
              "3              0        0           0      45  No phone service   \n",
              "4              0        0           0       2                 0   \n",
              "\n",
              "  InternetService OnlineSecurity OnlineBackup DeviceProtection TechSupport  \\\n",
              "0             DSL              0            1                0           0   \n",
              "1             DSL              1            0                1           0   \n",
              "2             DSL              1            1                0           0   \n",
              "3             DSL              1            0                1           1   \n",
              "4     Fiber optic              0            0                0           0   \n",
              "\n",
              "  StreamingTV StreamingMovies        Contract  PaperlessBilling  \\\n",
              "0           0               0  Month-to-month                 1   \n",
              "1           0               0        One year                 0   \n",
              "2           0               0  Month-to-month                 1   \n",
              "3           0               0        One year                 0   \n",
              "4           0               0  Month-to-month                 1   \n",
              "\n",
              "      PaymentMethod  MonthlyCharges  TotalCharges  \n",
              "0  Electronic check           29.85         29.85  \n",
              "1      Mailed check           56.95       1889.50  \n",
              "2      Mailed check           53.85        108.15  \n",
              "3     Bank transfer           42.30       1840.75  \n",
              "4  Electronic check           70.70        151.65  "
            ],
            "text/html": [
              "\n",
              "  <div id=\"df-6f41c528-6b0b-4500-9af4-233a5d725317\">\n",
              "    <div class=\"colab-df-container\">\n",
              "      <div>\n",
              "<style scoped>\n",
              "    .dataframe tbody tr th:only-of-type {\n",
              "        vertical-align: middle;\n",
              "    }\n",
              "\n",
              "    .dataframe tbody tr th {\n",
              "        vertical-align: top;\n",
              "    }\n",
              "\n",
              "    .dataframe thead th {\n",
              "        text-align: right;\n",
              "    }\n",
              "</style>\n",
              "<table border=\"1\" class=\"dataframe\">\n",
              "  <thead>\n",
              "    <tr style=\"text-align: right;\">\n",
              "      <th></th>\n",
              "      <th>SeniorCitizen</th>\n",
              "      <th>Partner</th>\n",
              "      <th>Dependents</th>\n",
              "      <th>tenure</th>\n",
              "      <th>MultipleLines</th>\n",
              "      <th>InternetService</th>\n",
              "      <th>OnlineSecurity</th>\n",
              "      <th>OnlineBackup</th>\n",
              "      <th>DeviceProtection</th>\n",
              "      <th>TechSupport</th>\n",
              "      <th>StreamingTV</th>\n",
              "      <th>StreamingMovies</th>\n",
              "      <th>Contract</th>\n",
              "      <th>PaperlessBilling</th>\n",
              "      <th>PaymentMethod</th>\n",
              "      <th>MonthlyCharges</th>\n",
              "      <th>TotalCharges</th>\n",
              "    </tr>\n",
              "  </thead>\n",
              "  <tbody>\n",
              "    <tr>\n",
              "      <th>0</th>\n",
              "      <td>0</td>\n",
              "      <td>1</td>\n",
              "      <td>0</td>\n",
              "      <td>1</td>\n",
              "      <td>No phone service</td>\n",
              "      <td>DSL</td>\n",
              "      <td>0</td>\n",
              "      <td>1</td>\n",
              "      <td>0</td>\n",
              "      <td>0</td>\n",
              "      <td>0</td>\n",
              "      <td>0</td>\n",
              "      <td>Month-to-month</td>\n",
              "      <td>1</td>\n",
              "      <td>Electronic check</td>\n",
              "      <td>29.85</td>\n",
              "      <td>29.85</td>\n",
              "    </tr>\n",
              "    <tr>\n",
              "      <th>1</th>\n",
              "      <td>0</td>\n",
              "      <td>0</td>\n",
              "      <td>0</td>\n",
              "      <td>34</td>\n",
              "      <td>0</td>\n",
              "      <td>DSL</td>\n",
              "      <td>1</td>\n",
              "      <td>0</td>\n",
              "      <td>1</td>\n",
              "      <td>0</td>\n",
              "      <td>0</td>\n",
              "      <td>0</td>\n",
              "      <td>One year</td>\n",
              "      <td>0</td>\n",
              "      <td>Mailed check</td>\n",
              "      <td>56.95</td>\n",
              "      <td>1889.50</td>\n",
              "    </tr>\n",
              "    <tr>\n",
              "      <th>2</th>\n",
              "      <td>0</td>\n",
              "      <td>0</td>\n",
              "      <td>0</td>\n",
              "      <td>2</td>\n",
              "      <td>0</td>\n",
              "      <td>DSL</td>\n",
              "      <td>1</td>\n",
              "      <td>1</td>\n",
              "      <td>0</td>\n",
              "      <td>0</td>\n",
              "      <td>0</td>\n",
              "      <td>0</td>\n",
              "      <td>Month-to-month</td>\n",
              "      <td>1</td>\n",
              "      <td>Mailed check</td>\n",
              "      <td>53.85</td>\n",
              "      <td>108.15</td>\n",
              "    </tr>\n",
              "    <tr>\n",
              "      <th>3</th>\n",
              "      <td>0</td>\n",
              "      <td>0</td>\n",
              "      <td>0</td>\n",
              "      <td>45</td>\n",
              "      <td>No phone service</td>\n",
              "      <td>DSL</td>\n",
              "      <td>1</td>\n",
              "      <td>0</td>\n",
              "      <td>1</td>\n",
              "      <td>1</td>\n",
              "      <td>0</td>\n",
              "      <td>0</td>\n",
              "      <td>One year</td>\n",
              "      <td>0</td>\n",
              "      <td>Bank transfer</td>\n",
              "      <td>42.30</td>\n",
              "      <td>1840.75</td>\n",
              "    </tr>\n",
              "    <tr>\n",
              "      <th>4</th>\n",
              "      <td>0</td>\n",
              "      <td>0</td>\n",
              "      <td>0</td>\n",
              "      <td>2</td>\n",
              "      <td>0</td>\n",
              "      <td>Fiber optic</td>\n",
              "      <td>0</td>\n",
              "      <td>0</td>\n",
              "      <td>0</td>\n",
              "      <td>0</td>\n",
              "      <td>0</td>\n",
              "      <td>0</td>\n",
              "      <td>Month-to-month</td>\n",
              "      <td>1</td>\n",
              "      <td>Electronic check</td>\n",
              "      <td>70.70</td>\n",
              "      <td>151.65</td>\n",
              "    </tr>\n",
              "  </tbody>\n",
              "</table>\n",
              "</div>\n",
              "      <button class=\"colab-df-convert\" onclick=\"convertToInteractive('df-6f41c528-6b0b-4500-9af4-233a5d725317')\"\n",
              "              title=\"Convert this dataframe to an interactive table.\"\n",
              "              style=\"display:none;\">\n",
              "        \n",
              "  <svg xmlns=\"http://www.w3.org/2000/svg\" height=\"24px\"viewBox=\"0 0 24 24\"\n",
              "       width=\"24px\">\n",
              "    <path d=\"M0 0h24v24H0V0z\" fill=\"none\"/>\n",
              "    <path d=\"M18.56 5.44l.94 2.06.94-2.06 2.06-.94-2.06-.94-.94-2.06-.94 2.06-2.06.94zm-11 1L8.5 8.5l.94-2.06 2.06-.94-2.06-.94L8.5 2.5l-.94 2.06-2.06.94zm10 10l.94 2.06.94-2.06 2.06-.94-2.06-.94-.94-2.06-.94 2.06-2.06.94z\"/><path d=\"M17.41 7.96l-1.37-1.37c-.4-.4-.92-.59-1.43-.59-.52 0-1.04.2-1.43.59L10.3 9.45l-7.72 7.72c-.78.78-.78 2.05 0 2.83L4 21.41c.39.39.9.59 1.41.59.51 0 1.02-.2 1.41-.59l7.78-7.78 2.81-2.81c.8-.78.8-2.07 0-2.86zM5.41 20L4 18.59l7.72-7.72 1.47 1.35L5.41 20z\"/>\n",
              "  </svg>\n",
              "      </button>\n",
              "      \n",
              "  <style>\n",
              "    .colab-df-container {\n",
              "      display:flex;\n",
              "      flex-wrap:wrap;\n",
              "      gap: 12px;\n",
              "    }\n",
              "\n",
              "    .colab-df-convert {\n",
              "      background-color: #E8F0FE;\n",
              "      border: none;\n",
              "      border-radius: 50%;\n",
              "      cursor: pointer;\n",
              "      display: none;\n",
              "      fill: #1967D2;\n",
              "      height: 32px;\n",
              "      padding: 0 0 0 0;\n",
              "      width: 32px;\n",
              "    }\n",
              "\n",
              "    .colab-df-convert:hover {\n",
              "      background-color: #E2EBFA;\n",
              "      box-shadow: 0px 1px 2px rgba(60, 64, 67, 0.3), 0px 1px 3px 1px rgba(60, 64, 67, 0.15);\n",
              "      fill: #174EA6;\n",
              "    }\n",
              "\n",
              "    [theme=dark] .colab-df-convert {\n",
              "      background-color: #3B4455;\n",
              "      fill: #D2E3FC;\n",
              "    }\n",
              "\n",
              "    [theme=dark] .colab-df-convert:hover {\n",
              "      background-color: #434B5C;\n",
              "      box-shadow: 0px 1px 3px 1px rgba(0, 0, 0, 0.15);\n",
              "      filter: drop-shadow(0px 1px 2px rgba(0, 0, 0, 0.3));\n",
              "      fill: #FFFFFF;\n",
              "    }\n",
              "  </style>\n",
              "\n",
              "      <script>\n",
              "        const buttonEl =\n",
              "          document.querySelector('#df-6f41c528-6b0b-4500-9af4-233a5d725317 button.colab-df-convert');\n",
              "        buttonEl.style.display =\n",
              "          google.colab.kernel.accessAllowed ? 'block' : 'none';\n",
              "\n",
              "        async function convertToInteractive(key) {\n",
              "          const element = document.querySelector('#df-6f41c528-6b0b-4500-9af4-233a5d725317');\n",
              "          const dataTable =\n",
              "            await google.colab.kernel.invokeFunction('convertToInteractive',\n",
              "                                                     [key], {});\n",
              "          if (!dataTable) return;\n",
              "\n",
              "          const docLinkHtml = 'Like what you see? Visit the ' +\n",
              "            '<a target=\"_blank\" href=https://colab.research.google.com/notebooks/data_table.ipynb>data table notebook</a>'\n",
              "            + ' to learn more about interactive tables.';\n",
              "          element.innerHTML = '';\n",
              "          dataTable['output_type'] = 'display_data';\n",
              "          await google.colab.output.renderOutput(dataTable, element);\n",
              "          const docLink = document.createElement('div');\n",
              "          docLink.innerHTML = docLinkHtml;\n",
              "          element.appendChild(docLink);\n",
              "        }\n",
              "      </script>\n",
              "    </div>\n",
              "  </div>\n",
              "  "
            ]
          },
          "metadata": {},
          "execution_count": 20
        }
      ],
      "source": [
        "dt = x.copy()\n",
        "\n",
        "#replace data Yes to 1 and No to 0\n",
        "dt = dt.replace(['Yes', 'No'], [1, 0])\n",
        "y=y.replace(['Yes', 'No'], [1, 0])\n",
        "dt.head() "
      ]
    },
    {
      "cell_type": "markdown",
      "source": [
        "# One-Hot Encoder\n",
        "Though label encoding is straight but it has the disadvantage that the numeric values can be misinterpreted by algorithms as having some sort of order in them. This ordering issue is addressed in another common alternative approach called ‘One-Hot Encoding’. In this strategy, each category value is converted into a new column and assigned a 1 or 0 (notation for true/false) value to the column."
      ],
      "metadata": {
        "id": "9ZFPET0aPrOf"
      }
    },
    {
      "cell_type": "code",
      "execution_count": 21,
      "metadata": {
        "colab": {
          "base_uri": "https://localhost:8080/"
        },
        "id": "hK-V4L9uaXoU",
        "outputId": "6ad33389-eeff-408f-9bb2-544a0dd8f64f"
      },
      "outputs": [
        {
          "output_type": "execute_result",
          "data": {
            "text/plain": [
              "Index(['SeniorCitizen', 'Partner', 'Dependents', 'tenure', 'PaperlessBilling',\n",
              "       'MonthlyCharges', 'TotalCharges', 'MultipleLines_0', 'MultipleLines_1',\n",
              "       'MultipleLines_No phone service', 'InternetService_0',\n",
              "       'InternetService_DSL', 'InternetService_Fiber optic',\n",
              "       'OnlineSecurity_0', 'OnlineSecurity_1',\n",
              "       'OnlineSecurity_No internet service', 'OnlineBackup_0',\n",
              "       'OnlineBackup_1', 'OnlineBackup_No internet service',\n",
              "       'DeviceProtection_0', 'DeviceProtection_1',\n",
              "       'DeviceProtection_No internet service', 'TechSupport_0',\n",
              "       'TechSupport_1', 'TechSupport_No internet service', 'StreamingTV_0',\n",
              "       'StreamingTV_1', 'StreamingTV_No internet service', 'StreamingMovies_0',\n",
              "       'StreamingMovies_1', 'StreamingMovies_No internet service',\n",
              "       'Contract_Month-to-month', 'Contract_One year', 'Contract_Two year',\n",
              "       'PaymentMethod_Bank transfer', 'PaymentMethod_Credit card',\n",
              "       'PaymentMethod_Electronic check', 'PaymentMethod_Mailed check'],\n",
              "      dtype='object')"
            ]
          },
          "metadata": {},
          "execution_count": 21
        }
      ],
      "source": [
        "# one-hot encoding (categorical variables with more than two levels)\n",
        "one_hot_encoding_columns = ['MultipleLines', 'InternetService', 'OnlineSecurity', 'OnlineBackup', 'DeviceProtection', \n",
        "                            'TechSupport', 'StreamingTV',  'StreamingMovies', 'Contract', 'PaymentMethod']\n",
        "\n",
        "# encode categorical variables with more than two levels using one-hot encoding\n",
        "df_telco_transformed = pd.get_dummies(dt, columns = one_hot_encoding_columns)\n",
        "\n",
        "#Inspect columns\n",
        "df_telco_transformed.columns"
      ]
    },
    {
      "cell_type": "markdown",
      "metadata": {
        "id": "GUkntOEgCc2S"
      },
      "source": [
        "# Checking target incidence"
      ]
    },
    {
      "cell_type": "code",
      "execution_count": 22,
      "metadata": {
        "colab": {
          "base_uri": "https://localhost:8080/"
        },
        "id": "Slz9YVqk6ROw",
        "outputId": "f8b35bd1-351f-4809-dff8-039ceafd8748"
      },
      "outputs": [
        {
          "output_type": "execute_result",
          "data": {
            "text/plain": [
              "(\"Checking target incident ones's and zeros \\n\", Churn\n",
              " 0        0.734\n",
              " 1        0.266\n",
              " dtype: float64)"
            ]
          },
          "metadata": {},
          "execution_count": 22
        }
      ],
      "source": [
        "#count uniques values in churn \n",
        "(\"Checking target incident ones's and zeros \\n\" , round(y.value_counts(normalize= True),3))"
      ]
    },
    {
      "cell_type": "markdown",
      "source": [
        "**0's are 73.4 percent and 1's are 26.6 percent. Our data is imbalanced, it need to handle imbalanced data. So many techniques are to handle. But we SMOTE sampling. SMOTE or Synthetic Minority Oversampling Technique is an oversampling technique but SMOTE working differently than your typical oversampling.**\n",
        "\n",
        "**In a classic oversampling technique, the minority data is duplicated from the minority data population. While it increases the number of data, it does not give any new information or variation to the machine learning model.**"
      ],
      "metadata": {
        "id": "BHDKMSv9QPs_"
      }
    },
    {
      "cell_type": "markdown",
      "source": [
        "# Imbalanced data handling"
      ],
      "metadata": {
        "id": "pKTg54BTRyty"
      }
    },
    {
      "cell_type": "code",
      "execution_count": 23,
      "metadata": {
        "colab": {
          "base_uri": "https://localhost:8080/"
        },
        "id": "SZMFpJj7bpo-",
        "outputId": "f9f0c06a-ed00-48db-cb66-3943fb4e21cf"
      },
      "outputs": [
        {
          "output_type": "stream",
          "name": "stdout",
          "text": [
            "Before sampling number of ones and zeros in target?\n",
            " Churn\n",
            "0        5163\n",
            "1        1869\n",
            "dtype: int64\n",
            "\n",
            "After sampling number of ones and zeros in target?\n",
            " Churn\n",
            "0        5163\n",
            "1        5163\n",
            "dtype: int64\n"
          ]
        }
      ],
      "source": [
        "#minority smapling\n",
        "smot = SMOTE(sampling_strategy='minority') \n",
        "x_t, y_t = smot.fit_resample(df_telco_transformed, y) \n",
        "print(\"Before sampling number of ones and zeros in target?\\n\" ,y.value_counts())\n",
        "print(\"\\nAfter sampling number of ones and zeros in target?\\n\" ,y_t.value_counts())"
      ]
    },
    {
      "cell_type": "markdown",
      "source": [
        "**Now , our data is balanced so we foraward to next step.**\n",
        "\n",
        "**If you remeber numerical histogram plot - tenure, MontlyCharges, and TotalCharges are not follwed normal distribution.We will use the min-max method to rescale the numeric columns (tenure, MontlyCharges, and TotalCharges) to a common scale.The min-max approach (often called normalization) rescales the feature .**"
      ],
      "metadata": {
        "id": "8M7bViwBRxnX"
      }
    },
    {
      "cell_type": "markdown",
      "source": [
        "# Data Normalization\n",
        "It is a common practice in machine learning which consists of transforming numeric columns to a common scale. In machine learning, some feature values differ from others multiple times. The features with higher values will dominate the learning process; however, it does not mean those variables are more important to predict the target. Data normalization transforms multiscaled data to the same scale. After normalization, all variables have a similar influence on the model, improving the stability and performance of the learning algorithm."
      ],
      "metadata": {
        "id": "sm9PUv3_WCP8"
      }
    },
    {
      "cell_type": "code",
      "execution_count": 24,
      "metadata": {
        "id": "pujBgDjajy8B"
      },
      "outputs": [],
      "source": [
        "#normailizing our dataset using min max scaler\n",
        "scaler = MinMaxScaler()\n",
        "model = scaler.fit(x_t)\n",
        "x_t = model.transform(x_t)"
      ]
    },
    {
      "cell_type": "markdown",
      "source": [
        "# Splitting dataset into train and test datasets"
      ],
      "metadata": {
        "id": "OvpOFqx4XkxU"
      }
    },
    {
      "cell_type": "code",
      "execution_count": 25,
      "metadata": {
        "colab": {
          "base_uri": "https://localhost:8080/"
        },
        "id": "A5VWbr-1kAt3",
        "outputId": "45d1435b-eb1f-43ff-e962-4727b1aafe77"
      },
      "outputs": [
        {
          "output_type": "stream",
          "name": "stdout",
          "text": [
            "Training input feature shape (7744, 38)\n",
            "Testing input feature shape (2582, 38)\n",
            "Training output feature shape (7744, 1)\n",
            "Testing output feature shape (2582, 1)\n"
          ]
        }
      ],
      "source": [
        "# split the data in training and testing sets\n",
        "X_train, X_test, y_train, y_test = train_test_split(x_t, y_t, test_size=0.25, stratify=y_t\n",
        "                                                    )\n",
        "#check shape of data set\n",
        "print(\"Training input feature shape\",X_train.shape)\n",
        "print(\"Testing input feature shape\",X_test.shape)\n",
        "print(\"Training output feature shape\",y_train.shape)\n",
        "print(\"Testing output feature shape\", y_test.shape)"
      ]
    },
    {
      "cell_type": "markdown",
      "source": [
        "# ***Model Evaluation***\n",
        "****\n",
        "Algorithm selection is a key challenge in any machine learning project since there is not an algorithm that is the best across all projects. Generally, we need to evaluate a set of potential candidates and select for further evaluation those that provide better performance."
      ],
      "metadata": {
        "id": "CR96v1PO0Xxz"
      }
    },
    {
      "cell_type": "code",
      "execution_count": 52,
      "metadata": {
        "id": "YIHYzecUm7Rh",
        "colab": {
          "base_uri": "https://localhost:8080/",
          "height": 674
        },
        "outputId": "fb93c9af-51c4-4a50-fb2c-6a40e7386ab8"
      },
      "outputs": [
        {
          "output_type": "stream",
          "name": "stdout",
          "text": [
            " *  k nearest neighbors\n",
            " *  logistic regression\n",
            " *  Support Vector Classifier\n",
            " *  Random forest\n",
            " *  Gradient boosting\n",
            " *  Linear SVC\n",
            " *  Bagging Classifier\n",
            " *  AdaBoost Classifier\n",
            " *  XGB Classifier\n",
            "Confusion Matrix for different models\n"
          ]
        },
        {
          "output_type": "display_data",
          "data": {
            "text/plain": [
              "<Figure size 2160x216 with 10 Axes>"
            ],
            "image/png": "[encoded data removed]"
          },
          "metadata": {
            "needs_background": "light"
          }
        },
        {
          "output_type": "execute_result",
          "data": {
            "text/plain": [
              "                           run_time  CV_Score  X_train_Pred_Acc  \\\n",
              "Gradient boosting              0.11  0.854596          0.867510   \n",
              "XGB Classifier                 0.05  0.853822          0.864540   \n",
              "Random forest                  0.06  0.849819          0.998321   \n",
              "logistic regression            0.01  0.849303          0.850594   \n",
              "Support Vector Classifier      0.15  0.848658          0.863249   \n",
              "Linear SVC                     0.01  0.848141          0.849303   \n",
              "AdaBoost Classifier            0.03  0.845815          0.846462   \n",
              "Bagging Classifier             0.02  0.842588          0.987732   \n",
              "k nearest neighbors            0.07  0.829804          0.881457   \n",
              "\n",
              "                            X_test_Pred_Acc  Roc_Auc_Score  \n",
              "Gradient boosting                  0.847018       0.847018  \n",
              "XGB Classifier                     0.847792       0.847792  \n",
              "Random forest                      0.852440       0.852440  \n",
              "logistic regression                0.843145       0.843145  \n",
              "Support Vector Classifier          0.840434       0.840434  \n",
              "Linear SVC                         0.845469       0.845469  \n",
              "AdaBoost Classifier                0.841983       0.841983  \n",
              "Bagging Classifier                 0.838885       0.838885  \n",
              "k nearest neighbors                0.828815       0.828815  "
            ],
            "text/html": [
              "\n",
              "  <div id=\"df-4e90ffdd-8e67-4a5d-96c9-198ea950b0a4\">\n",
              "    <div class=\"colab-df-container\">\n",
              "      <div>\n",
              "<style scoped>\n",
              "    .dataframe tbody tr th:only-of-type {\n",
              "        vertical-align: middle;\n",
              "    }\n",
              "\n",
              "    .dataframe tbody tr th {\n",
              "        vertical-align: top;\n",
              "    }\n",
              "\n",
              "    .dataframe thead th {\n",
              "        text-align: right;\n",
              "    }\n",
              "</style>\n",
              "<table border=\"1\" class=\"dataframe\">\n",
              "  <thead>\n",
              "    <tr style=\"text-align: right;\">\n",
              "      <th></th>\n",
              "      <th>run_time</th>\n",
              "      <th>CV_Score</th>\n",
              "      <th>X_train_Pred_Acc</th>\n",
              "      <th>X_test_Pred_Acc</th>\n",
              "      <th>Roc_Auc_Score</th>\n",
              "    </tr>\n",
              "  </thead>\n",
              "  <tbody>\n",
              "    <tr>\n",
              "      <th>Gradient boosting</th>\n",
              "      <td>0.11</td>\n",
              "      <td>0.854596</td>\n",
              "      <td>0.867510</td>\n",
              "      <td>0.847018</td>\n",
              "      <td>0.847018</td>\n",
              "    </tr>\n",
              "    <tr>\n",
              "      <th>XGB Classifier</th>\n",
              "      <td>0.05</td>\n",
              "      <td>0.853822</td>\n",
              "      <td>0.864540</td>\n",
              "      <td>0.847792</td>\n",
              "      <td>0.847792</td>\n",
              "    </tr>\n",
              "    <tr>\n",
              "      <th>Random forest</th>\n",
              "      <td>0.06</td>\n",
              "      <td>0.849819</td>\n",
              "      <td>0.998321</td>\n",
              "      <td>0.852440</td>\n",
              "      <td>0.852440</td>\n",
              "    </tr>\n",
              "    <tr>\n",
              "      <th>logistic regression</th>\n",
              "      <td>0.01</td>\n",
              "      <td>0.849303</td>\n",
              "      <td>0.850594</td>\n",
              "      <td>0.843145</td>\n",
              "      <td>0.843145</td>\n",
              "    </tr>\n",
              "    <tr>\n",
              "      <th>Support Vector Classifier</th>\n",
              "      <td>0.15</td>\n",
              "      <td>0.848658</td>\n",
              "      <td>0.863249</td>\n",
              "      <td>0.840434</td>\n",
              "      <td>0.840434</td>\n",
              "    </tr>\n",
              "    <tr>\n",
              "      <th>Linear SVC</th>\n",
              "      <td>0.01</td>\n",
              "      <td>0.848141</td>\n",
              "      <td>0.849303</td>\n",
              "      <td>0.845469</td>\n",
              "      <td>0.845469</td>\n",
              "    </tr>\n",
              "    <tr>\n",
              "      <th>AdaBoost Classifier</th>\n",
              "      <td>0.03</td>\n",
              "      <td>0.845815</td>\n",
              "      <td>0.846462</td>\n",
              "      <td>0.841983</td>\n",
              "      <td>0.841983</td>\n",
              "    </tr>\n",
              "    <tr>\n",
              "      <th>Bagging Classifier</th>\n",
              "      <td>0.02</td>\n",
              "      <td>0.842588</td>\n",
              "      <td>0.987732</td>\n",
              "      <td>0.838885</td>\n",
              "      <td>0.838885</td>\n",
              "    </tr>\n",
              "    <tr>\n",
              "      <th>k nearest neighbors</th>\n",
              "      <td>0.07</td>\n",
              "      <td>0.829804</td>\n",
              "      <td>0.881457</td>\n",
              "      <td>0.828815</td>\n",
              "      <td>0.828815</td>\n",
              "    </tr>\n",
              "  </tbody>\n",
              "</table>\n",
              "</div>\n",
              "      <button class=\"colab-df-convert\" onclick=\"convertToInteractive('df-4e90ffdd-8e67-4a5d-96c9-198ea950b0a4')\"\n",
              "              title=\"Convert this dataframe to an interactive table.\"\n",
              "              style=\"display:none;\">\n",
              "        \n",
              "  <svg xmlns=\"http://www.w3.org/2000/svg\" height=\"24px\"viewBox=\"0 0 24 24\"\n",
              "       width=\"24px\">\n",
              "    <path d=\"M0 0h24v24H0V0z\" fill=\"none\"/>\n",
              "    <path d=\"M18.56 5.44l.94 2.06.94-2.06 2.06-.94-2.06-.94-.94-2.06-.94 2.06-2.06.94zm-11 1L8.5 8.5l.94-2.06 2.06-.94-2.06-.94L8.5 2.5l-.94 2.06-2.06.94zm10 10l.94 2.06.94-2.06 2.06-.94-2.06-.94-.94-2.06-.94 2.06-2.06.94z\"/><path d=\"M17.41 7.96l-1.37-1.37c-.4-.4-.92-.59-1.43-.59-.52 0-1.04.2-1.43.59L10.3 9.45l-7.72 7.72c-.78.78-.78 2.05 0 2.83L4 21.41c.39.39.9.59 1.41.59.51 0 1.02-.2 1.41-.59l7.78-7.78 2.81-2.81c.8-.78.8-2.07 0-2.86zM5.41 20L4 18.59l7.72-7.72 1.47 1.35L5.41 20z\"/>\n",
              "  </svg>\n",
              "      </button>\n",
              "      \n",
              "  <style>\n",
              "    .colab-df-container {\n",
              "      display:flex;\n",
              "      flex-wrap:wrap;\n",
              "      gap: 12px;\n",
              "    }\n",
              "\n",
              "    .colab-df-convert {\n",
              "      background-color: #E8F0FE;\n",
              "      border: none;\n",
              "      border-radius: 50%;\n",
              "      cursor: pointer;\n",
              "      display: none;\n",
              "      fill: #1967D2;\n",
              "      height: 32px;\n",
              "      padding: 0 0 0 0;\n",
              "      width: 32px;\n",
              "    }\n",
              "\n",
              "    .colab-df-convert:hover {\n",
              "      background-color: #E2EBFA;\n",
              "      box-shadow: 0px 1px 2px rgba(60, 64, 67, 0.3), 0px 1px 3px 1px rgba(60, 64, 67, 0.15);\n",
              "      fill: #174EA6;\n",
              "    }\n",
              "\n",
              "    [theme=dark] .colab-df-convert {\n",
              "      background-color: #3B4455;\n",
              "      fill: #D2E3FC;\n",
              "    }\n",
              "\n",
              "    [theme=dark] .colab-df-convert:hover {\n",
              "      background-color: #434B5C;\n",
              "      box-shadow: 0px 1px 3px 1px rgba(0, 0, 0, 0.15);\n",
              "      filter: drop-shadow(0px 1px 2px rgba(0, 0, 0, 0.3));\n",
              "      fill: #FFFFFF;\n",
              "    }\n",
              "  </style>\n",
              "\n",
              "      <script>\n",
              "        const buttonEl =\n",
              "          document.querySelector('#df-4e90ffdd-8e67-4a5d-96c9-198ea950b0a4 button.colab-df-convert');\n",
              "        buttonEl.style.display =\n",
              "          google.colab.kernel.accessAllowed ? 'block' : 'none';\n",
              "\n",
              "        async function convertToInteractive(key) {\n",
              "          const element = document.querySelector('#df-4e90ffdd-8e67-4a5d-96c9-198ea950b0a4');\n",
              "          const dataTable =\n",
              "            await google.colab.kernel.invokeFunction('convertToInteractive',\n",
              "                                                     [key], {});\n",
              "          if (!dataTable) return;\n",
              "\n",
              "          const docLinkHtml = 'Like what you see? Visit the ' +\n",
              "            '<a target=\"_blank\" href=https://colab.research.google.com/notebooks/data_table.ipynb>data table notebook</a>'\n",
              "            + ' to learn more about interactive tables.';\n",
              "          element.innerHTML = '';\n",
              "          dataTable['output_type'] = 'display_data';\n",
              "          await google.colab.output.renderOutput(dataTable, element);\n",
              "          const docLink = document.createElement('div');\n",
              "          docLink.innerHTML = docLinkHtml;\n",
              "          element.appendChild(docLink);\n",
              "        }\n",
              "      </script>\n",
              "    </div>\n",
              "  </div>\n",
              "  "
            ]
          },
          "metadata": {},
          "execution_count": 52
        }
      ],
      "source": [
        "import time\n",
        "models = {    \n",
        "'k nearest neighbors': KNeighborsClassifier(),\n",
        "'logistic regression': LogisticRegression(),\n",
        "'Support Vector Classifier': SVC(),\n",
        "'Random forest': RandomForestClassifier(),\n",
        "'Gradient boosting': GradientBoostingClassifier(),\n",
        "'Linear SVC': LinearSVC(),\n",
        "'Bagging Classifier': BaggingClassifier(),\n",
        "'AdaBoost Classifier': AdaBoostClassifier(),\n",
        "'XGB Classifier': XGBClassifier(),\n",
        "}\n",
        "\n",
        "res = {}\n",
        "with warnings.catch_warnings():\n",
        "    warnings.simplefilter(\"ignore\")\n",
        "\n",
        "f, axes = plt.subplots(1, 9, figsize=(30,3))\n",
        "\n",
        "for i, (name, model) in enumerate(models.items()):\n",
        "    n = name + \" \"     \n",
        "    print(\" * \",name)\n",
        "    \n",
        "    start_time = time.time()\n",
        "    # fit the model with the training data\n",
        "    clf = model.fit(X_train,y_train)\n",
        "    # predict the target on train and test data\n",
        "    y_pred_tr = model.predict(X_train)\n",
        "    y_pred_ts = model.predict(X_test)\n",
        "    #cross-validation score\n",
        "    Cross_Validation_Score = cross_val_score(clf, X_train, y_train, cv=5).mean()\n",
        "    #accuracy\n",
        "    acc_pred_tr = np.mean(accuracy_score(y_train,y_pred_tr))\n",
        "    acc_pred_ts = np.mean(accuracy_score(y_test,y_pred_ts))\n",
        "    #RMS value\n",
        "    #roc auc on test data\n",
        "    Roc_Auc_Score =  roc_auc_score(y_test, y_pred_ts)\n",
        "\n",
        "    #result\n",
        "    res[n] = {\n",
        "            'run_time': format(round((time.time() - start_time)/60,2)),\n",
        "            \"CV_Score\": Cross_Validation_Score ,\n",
        "            \"X_train_Pred_Acc\":acc_pred_tr,\n",
        "            \"X_test_Pred_Acc\":acc_pred_ts,\n",
        "            \"Roc_Auc_Score\":Roc_Auc_Score,\n",
        "           }\n",
        "\n",
        "    #plotting confusion matrix\n",
        "    cf_matrix = confusion_matrix(y_test, y_pred_ts)\n",
        "    disp = ConfusionMatrixDisplay(cf_matrix)\n",
        "    disp.plot(ax=axes[i])\n",
        "    disp.ax_.set_title(name)\n",
        "    disp.im_.colorbar.remove()\n",
        "    disp.ax_.set_xlabel('Prediction')\n",
        "  \n",
        "    if i!=0:\n",
        "        disp.ax_.set_ylabel('Actual')\n",
        "    \n",
        "plt.subplots_adjust(wspace=0.45, hspace=0.1)\n",
        "f.colorbar(disp.im_, ax=axes)\n",
        "print(\"Confusion Matrix for different models\")\n",
        "plt.show()\n",
        "\n",
        "results = pd.DataFrame.from_dict(res, orient=\"index\")\n",
        "results = results[['run_time',\"CV_Score\",'X_train_Pred_Acc','X_test_Pred_Acc','Roc_Auc_Score']]\n",
        "\n",
        "results.sort_values(by='CV_Score', ascending=False)"
      ]
    },
    {
      "cell_type": "markdown",
      "source": [
        "**After Evalution Gradient boosting classifier gives overall better performance in Crossvalidation, accuracy and roc-auc too.**\n",
        "\n",
        "**we will only further evaluate the model that presents higher accuracy using the default hyperparameters. As shown above, this corresponds to the gradient boosting model which shows an CV Score of nearly 85.4%.**\n",
        "\n",
        "- So we move to next step for hyperparameter tuning."
      ],
      "metadata": {
        "id": "vs-_3T-e0PMg"
      }
    },
    {
      "cell_type": "markdown",
      "source": [
        "# ***Hyperparameter tuning***\n",
        "****\n",
        "\n",
        "we used drid search for hyperparameter tuning."
      ],
      "metadata": {
        "id": "1e0j9Enj8OsX"
      }
    },
    {
      "cell_type": "code",
      "source": [
        "from sklearn.model_selection import GridSearchCV\n",
        "param_grid = {\n",
        "    'n_estimators': [80, 90, 100],\n",
        "                   'max_depth': [3, 4, 5, 6],\n",
        "                   'max_features': [None, 'auto', 'sqrt', 'log2'], \n",
        "                   'min_samples_split': [2, 3, 4, 5]\n",
        "}\n",
        "# Create a based model\n",
        "gd = GradientBoostingClassifier()\n",
        "# Instantiate the grid search model\n",
        "grid_search = GridSearchCV(estimator = gd, param_grid = param_grid, \n",
        "                          cv = 2, n_jobs = -1, verbose = 3)\n",
        "# Fit the grid search to the data\n",
        "grid_search.fit(X_train, y_train)"
      ],
      "metadata": {
        "colab": {
          "base_uri": "https://localhost:8080/"
        },
        "id": "5X7HVylbvKQb",
        "outputId": "de4666da-5430-40f1-a701-8313635ede3d"
      },
      "execution_count": 48,
      "outputs": [
        {
          "output_type": "stream",
          "name": "stdout",
          "text": [
            "Fitting 2 folds for each of 192 candidates, totalling 384 fits\n"
          ]
        },
        {
          "output_type": "execute_result",
          "data": {
            "text/plain": [
              "GridSearchCV(cv=2, estimator=GradientBoostingClassifier(), n_jobs=-1,\n",
              "             param_grid={'max_depth': [3, 4, 5, 6],\n",
              "                         'max_features': [None, 'auto', 'sqrt', 'log2'],\n",
              "                         'min_samples_split': [2, 3, 4, 5],\n",
              "                         'n_estimators': [80, 90, 100]},\n",
              "             verbose=3)"
            ]
          },
          "metadata": {},
          "execution_count": 48
        }
      ]
    },
    {
      "cell_type": "code",
      "source": [
        "print(grid_search.best_estimator_)"
      ],
      "metadata": {
        "colab": {
          "base_uri": "https://localhost:8080/"
        },
        "id": "w7lBFepYrbks",
        "outputId": "ad85632f-a441-4957-bdd4-269da8b9d1cf"
      },
      "execution_count": 49,
      "outputs": [
        {
          "output_type": "stream",
          "name": "stdout",
          "text": [
            "GradientBoostingClassifier(max_depth=6, min_samples_split=3, n_estimators=80)\n"
          ]
        }
      ]
    },
    {
      "cell_type": "markdown",
      "source": [
        "# ***Final Model Building and Evalution***\n",
        "\n",
        "****"
      ],
      "metadata": {
        "id": "ZQ6Zj5Pf8Xu1"
      }
    },
    {
      "cell_type": "code",
      "source": [
        "#model building\n",
        "model_hp = GradientBoostingClassifier(max_depth=6,\n",
        "                           min_samples_split=3, n_estimators=80)\n",
        "model_hp.fit(X_train, y_train)\n",
        "y_pred_hp=model_hp.predict(X_test)\n",
        "print(\"Accuracy of HP MODEL : \", np.mean(accuracy_score(y_test, y_pred_hp)))\n",
        "print(\"Classification report : \\n\", classification_report(y_test, y_pred_hp))\n",
        "\n",
        "\n",
        "#plot_confusion_matrix\n",
        "plt.subplots(figsize=(15,5))\n",
        "ax=plt.subplot(1, 2, 1)\n",
        "plot_confusion_matrix(model_hp, X_test, y_test ,ax=ax)\n",
        "plt.show\n",
        "\n",
        "\n",
        "plt.subplot(1, 2, 2)\n",
        "# calculate roc curve for model\n",
        "pyplot.plot([0, 1], [0, 1], linestyle='--', label='No Skill')\n",
        "fpr, tpr,thresholds = roc_curve(y_test, y_pred_hp)\n",
        "roc_auc = auc(fpr, tpr)\n",
        "#print(\"ROC AUC : {:.3f}%\".format(roc_auc*100))\n",
        "# plot model roc curve\n",
        "pyplot.plot(fpr, tpr, marker='.', label='ROC curve %0.3f' % roc_auc)\n",
        "# axis labels\n",
        "pyplot.xlabel('False Positive Rate')\n",
        "pyplot.ylabel('True Positive Rate')\n",
        "plt.title(\"Receiver Operating Characteristic Curve\")\n",
        "# show the legend\n",
        "pyplot.legend(loc=4)\n",
        "# show the plot\n",
        "pyplot.show()\n",
        "\n"
      ],
      "metadata": {
        "colab": {
          "base_uri": "https://localhost:8080/",
          "height": 541
        },
        "id": "hsmzQpFa32nk",
        "outputId": "0a83a0e1-dda1-43b7-dcb6-b9dcb142572c"
      },
      "execution_count": 126,
      "outputs": [
        {
          "output_type": "stream",
          "name": "stdout",
          "text": [
            "Accuracy of HP MODEL :  0.8516653756777691\n",
            "Classification report : \n",
            "               precision    recall  f1-score   support\n",
            "\n",
            "           0       0.84      0.87      0.85      1291\n",
            "           1       0.86      0.84      0.85      1291\n",
            "\n",
            "    accuracy                           0.85      2582\n",
            "   macro avg       0.85      0.85      0.85      2582\n",
            "weighted avg       0.85      0.85      0.85      2582\n",
            "\n"
          ]
        },
        {
          "output_type": "display_data",
          "data": {
            "text/plain": [
              "<Figure size 1080x360 with 3 Axes>"
            ],
            "image/png": "[encoded data removed]"
          },
          "metadata": {
            "needs_background": "light"
          }
        }
      ]
    },
    {
      "cell_type": "markdown",
      "source": [
        "# ***Conclusion***\n",
        "****\n",
        "-  we have walked through Telco customer Churn dataset. We started by cleaning the data , dimensional reduction and analyzing it with visualization. \n",
        "- In a next step - Feature extraction, feature engineering and noramalization od datset for better accuracy and avoid overfiting.\n",
        "- After transforming the data, we tried 9 different machine learning algorithms using default parameters.Here we can conclude Gradient Bossting Classifier Giver overall good Cross validation score and model overall accuracy.\n",
        "- After Hyper parameter , model performance slightly increase approx 85.166 percent .\n",
        "And also imporve roc-auc score after tuning the model."
      ],
      "metadata": {
        "id": "H4n2kbCz9u-R"
      }
    }
  ],
  "metadata": {
    "colab": {
      "provenance": [],
      "mount_file_id": "1p-sD0fpTgc7zL4REEhGX37QLzBv9a7g_",
      "authorship_tag": "ABX9TyPvCq/mVmToaNYQKU6Bc+GW",
      "include_colab_link": true
    },
    "kernelspec": {
      "display_name": "Python 3",
      "name": "python3"
    },
    "language_info": {
      "name": "python"
    }
  },
  "nbformat": 4,
  "nbformat_minor": 0
}